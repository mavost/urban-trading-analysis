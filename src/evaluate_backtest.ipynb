{
 "cells": [
  {
   "cell_type": "markdown",
   "metadata": {},
   "source": [
    "# Notebook to evaluate lumibot backtest logs\n",
    "\n",
    "Latest version: 2024-09-06  \n",
    "Author: MvS\n",
    "\n",
    "## Description\n",
    "\n",
    "\n",
    "## Result\n",
    "\n"
   ]
  },
  {
   "cell_type": "code",
   "execution_count": 2,
   "metadata": {},
   "outputs": [],
   "source": [
    "import yfinance as yf\n",
    "\n",
    "from dotenv import dotenv_values\n",
    "import requests\n",
    "import pandas as pd\n",
    "import datetime as dt\n",
    "import csv\n",
    "\n",
    "import logging\n",
    "import sys\n",
    "\n",
    "logging.basicConfig(stream=sys.stdout, level=logging.INFO, format=\"%(asctime)s %(message)s\")\n",
    "\n",
    "cur_date = dt.datetime.today().strftime('%Y-%m-%d')\n",
    "\n",
    "env_dict = dotenv_values(\"../.env\")"
   ]
  },
  {
   "cell_type": "markdown",
   "metadata": {},
   "source": [
    "### Load file"
   ]
  },
  {
   "cell_type": "code",
   "execution_count": null,
   "metadata": {},
   "outputs": [],
   "source": [
    "filename = 'TrendFollowing_2024-08-31_13-42_3ziCGk_trades.csv'\n",
    "logging.info(f\"Opening trade log: {filename}\")\n",
    "\n",
    "try:\n",
    "    trades_df = pd.read_csv(\n",
    "        f\"logs/{filename}\", sep=\",\", quotechar='\"'\n",
    "    )\n",
    "    logging.info(trades_df)\n",
    "except IOError as e:\n",
    "    logging.info(f\"file not found: {e}\")\n"
   ]
  }
 ],
 "metadata": {
  "kernelspec": {
   "display_name": "Python 3.9.13 ('analytics')",
   "language": "python",
   "name": "python3"
  },
  "language_info": {
   "codemirror_mode": {
    "name": "ipython",
    "version": 3
   },
   "file_extension": ".py",
   "mimetype": "text/x-python",
   "name": "python",
   "nbconvert_exporter": "python",
   "pygments_lexer": "ipython3",
   "version": "3.10.12"
  },
  "orig_nbformat": 4,
  "vscode": {
   "interpreter": {
    "hash": "1acbb1aea708f5888ce317e88d2db9ecb72c374939700585e6601647586e5137"
   }
  }
 },
 "nbformat": 4,
 "nbformat_minor": 2
}
