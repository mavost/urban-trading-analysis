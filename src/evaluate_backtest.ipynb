{
 "cells": [
  {
   "cell_type": "markdown",
   "metadata": {},
   "source": [
    "# Notebook to evaluate lumibot backtest logs\n",
    "\n",
    "Latest version: 2024-09-06  \n",
    "Author: MvS\n",
    "\n",
    "## Description\n",
    "\n",
    "Notebook reads the Yahoo backtesting table coming out of Lumibot and calculates wining/losing trade data.\n",
    "\n",
    "## Result\n",
    "\n",
    "Dataframe containing position type, profit, trade duration"
   ]
  },
  {
   "cell_type": "code",
   "execution_count": 2,
   "metadata": {},
   "outputs": [],
   "source": [
    "import yfinance as yf\n",
    "\n",
    "from dotenv import dotenv_values\n",
    "import requests\n",
    "import pandas as pd\n",
    "import datetime as dt\n",
    "import csv\n",
    "\n",
    "import logging\n",
    "import sys\n",
    "\n",
    "logging.basicConfig(stream=sys.stdout, level=logging.INFO, format=\"%(asctime)s %(message)s\")\n",
    "\n",
    "cur_date = dt.datetime.today().strftime('%Y-%m-%d')\n",
    "\n",
    "env_dict = dotenv_values(\"../.env\")"
   ]
  },
  {
   "cell_type": "markdown",
   "metadata": {},
   "source": [
    "### Load file"
   ]
  },
  {
   "cell_type": "code",
   "execution_count": null,
   "metadata": {},
   "outputs": [],
   "source": [
    "filename = 'TrendFollowing_2024-08-31_13-42_3ziCGk_trades.csv'\n",
    "filename = 'TrendFollowing_2024-09-06_11-02_SsmW56_trades.csv'\n",
    "\n",
    "logging.info(f\"Opening trade log: {filename}\")\n",
    "\n",
    "try:\n",
    "    trades_df = pd.read_csv(\n",
    "        f\"logs/{filename}\", sep=\",\", quotechar='\"'\n",
    "    )\n",
    "except IOError as e:\n",
    "    logging.info(f\"file not found: {e}\")\n"
   ]
  },
  {
   "cell_type": "markdown",
   "metadata": {},
   "source": [
    "### Data wrangling of trade sheet\n",
    "\n",
    "1. ignoring the buy/sell orders, only looking at the fill confirmations\n",
    "2. updating the row count\n",
    "3. assume each opened order is followed up by an order to close the position\n",
    "4. getting previous row data --- to infer profit and consistency\n",
    "5. then, determine whether position was long or short\n",
    "6. calculate profit\n",
    "7. backfilling of profit to position opening timestamp\n",
    "8. identify the source of the order closing (SL/TP/other signal)"
   ]
  },
  {
   "cell_type": "code",
   "execution_count": null,
   "metadata": {},
   "outputs": [],
   "source": [
    "trades_df = trades_df[trades_df.status == 'fill'].copy()\n",
    "\n",
    "# Re-number the rows after filter\n",
    "trades_df.reset_index(drop=True, inplace=True)\n",
    "\n",
    "# Type-cast timestamp to datetime\n",
    "trades_df['time'] = pd.to_datetime(trades_df['time'], utc=True)\n",
    "\n",
    "# Assuming no partial fills or side effects in synthetic backtesting data\n",
    "def position_status(row):\n",
    "    row_num = row.name\n",
    "    if row_num % 2 == 0:\n",
    "        return 'open'\n",
    "    return 'closed'\n",
    "\n",
    "trades_df['pos_stat'] = trades_df.apply(position_status, axis=1)\n",
    "\n",
    "# Get previous order\n",
    "trades_df['p_price'] = trades_df['price'].shift(1)\n",
    "# Fix first/last row\n",
    "trades_df['p_price'] = trades_df['p_price'].bfill()\n",
    "\n",
    "\n",
    "def position_type(row):\n",
    "    side = row['side']\n",
    "    pos_stat = row['pos_stat']\n",
    "    if (pos_stat == 'open' and side == 'buy') or (pos_stat == 'closed' and side == 'sell'):\n",
    "        return 'long'\n",
    "    return 'short'\n",
    "\n",
    "trades_df['pos_type'] = trades_df.apply(position_type, axis=1)\n",
    "\n",
    "def position_profit(row):\n",
    "    pos_stat = row['pos_stat']\n",
    "    pos_type = row['pos_type']\n",
    "    quant = row['filled_quantity']\n",
    "    cost = row['trade_cost']\n",
    "    o_price = row['p_price']\n",
    "    c_price = row['price']\n",
    "    if pos_stat == 'closed':\n",
    "        if pos_type == 'long':\n",
    "            return quant * (c_price - o_price) - 2.0 * cost\n",
    "        else: \n",
    "            return quant * (o_price - c_price) - 2.0 * cost\n",
    "    return None\n",
    "\n",
    "trades_df['pos_profit'] = trades_df.apply(position_profit, axis=1)\n",
    "trades_df['pos_profit'] = trades_df['pos_profit'].bfill()\n",
    "\n",
    "def pos_closing(row):\n",
    "    pos_stat = row['pos_stat']\n",
    "    ctype = row['type']\n",
    "    # Identify reason for closing position\n",
    "    if pos_stat == 'closed':\n",
    "        if ctype == 'limit':\n",
    "            return 'TP'\n",
    "        elif ctype == 'stop_limit':\n",
    "            return 'SL'\n",
    "        else:\n",
    "            return 'SIG'\n",
    "    return None\n",
    "\n",
    "# Apply the function\n",
    "trades_df['pos_clos'] = trades_df.apply(pos_closing, axis=1)\n",
    "trades_df['pos_clos'] = trades_df['pos_clos'].bfill()\n",
    "\n",
    "# Get next time stamp\n",
    "trades_df['n_time'] = trades_df['time'].shift(-1)\n",
    "\n",
    "def pos_duration(row):\n",
    "    start_time = row['time']\n",
    "    end_time = row['n_time']\n",
    "    pos_stat = row['pos_stat']\n",
    "    # Identify duration of position\n",
    "    if pos_stat == 'open':\n",
    "        t_delta = end_time - start_time\n",
    "        return t_delta.days\n",
    "    return None\n",
    "\n",
    "# Apply the function\n",
    "trades_df['pos_dur'] = trades_df.apply(pos_duration, axis=1)\n",
    "trades_df['pos_dur'] = trades_df['pos_dur'].ffill()\n",
    "\n",
    "\n",
    "trades_df"
   ]
  }
 ],
 "metadata": {
  "kernelspec": {
   "display_name": "Python 3.9.13 ('analytics')",
   "language": "python",
   "name": "python3"
  },
  "language_info": {
   "codemirror_mode": {
    "name": "ipython",
    "version": 3
   },
   "file_extension": ".py",
   "mimetype": "text/x-python",
   "name": "python",
   "nbconvert_exporter": "python",
   "pygments_lexer": "ipython3",
   "version": "3.10.12"
  },
  "orig_nbformat": 4,
  "vscode": {
   "interpreter": {
    "hash": "1acbb1aea708f5888ce317e88d2db9ecb72c374939700585e6601647586e5137"
   }
  }
 },
 "nbformat": 4,
 "nbformat_minor": 2
}
