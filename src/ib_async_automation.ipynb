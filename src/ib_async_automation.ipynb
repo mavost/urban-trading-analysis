{
 "cells": [
  {
   "cell_type": "markdown",
   "metadata": {},
   "source": [
    "# Ordering\n",
    "\n",
    "\n",
    "## Warning: This notebook will place live orders\n",
    "\n",
    "Use a paper trading account (during market hours).\n"
   ]
  },
  {
   "cell_type": "code",
   "execution_count": 1,
   "metadata": {
    "scrolled": true
   },
   "outputs": [
    {
     "name": "stderr",
     "output_type": "stream",
     "text": [
      "2024-08-26 14:39:35,382 ib_async.client INFO Connecting to 192.168.178.81:7497 with clientId 14...\n",
      "2024-08-26 14:39:35,389 ib_async.client INFO Connected\n",
      "2024-08-26 14:39:35,425 ib_async.client DEBUG <<< 178,20240826 14:39:33 CET\n",
      "2024-08-26 14:39:35,429 ib_async.client DEBUG >>> 71,2,14,\n",
      "2024-08-26 14:39:35,432 ib_async.client INFO Logged on to server version 178\n",
      "2024-08-26 14:39:35,438 ib_async.client DEBUG <<< 15,1,DUA437695\n",
      "2024-08-26 14:39:35,486 ib_async.client DEBUG <<< 9,1,10\n",
      "2024-08-26 14:39:35,489 ib_async.client DEBUG <<< 4,2,-1,2104,Market data farm connection is OK:usfarm.nj,\n",
      "2024-08-26 14:39:35,492 ib_async.wrapper INFO Warning 2104, reqId -1: Market data farm connection is OK:usfarm.nj\n",
      "2024-08-26 14:39:35,497 ib_async.client DEBUG <<< 4,2,-1,2104,Market data farm connection is OK:usfuture,\n",
      "2024-08-26 14:39:35,500 ib_async.wrapper INFO Warning 2104, reqId -1: Market data farm connection is OK:usfuture\n",
      "2024-08-26 14:39:35,503 ib_async.client DEBUG <<< 4,2,-1,2104,Market data farm connection is OK:jfarm,\n",
      "2024-08-26 14:39:35,507 ib_async.wrapper INFO Warning 2104, reqId -1: Market data farm connection is OK:jfarm\n",
      "2024-08-26 14:39:35,511 ib_async.client DEBUG <<< 4,2,-1,2104,Market data farm connection is OK:eufarm,\n",
      "2024-08-26 14:39:35,516 ib_async.wrapper INFO Warning 2104, reqId -1: Market data farm connection is OK:eufarm\n",
      "2024-08-26 14:39:35,522 ib_async.client DEBUG <<< 4,2,-1,2104,Market data farm connection is OK:cashfarm,\n",
      "2024-08-26 14:39:35,526 ib_async.wrapper INFO Warning 2104, reqId -1: Market data farm connection is OK:cashfarm\n",
      "2024-08-26 14:39:35,531 ib_async.client DEBUG <<< 4,2,-1,2104,Market data farm connection is OK:usfarm,\n",
      "2024-08-26 14:39:35,535 ib_async.wrapper INFO Warning 2104, reqId -1: Market data farm connection is OK:usfarm\n",
      "2024-08-26 14:39:35,539 ib_async.client DEBUG <<< 4,2,-1,2106,HMDS data farm connection is OK:euhmds,\n",
      "2024-08-26 14:39:35,543 ib_async.wrapper INFO Warning 2106, reqId -1: HMDS data farm connection is OK:euhmds\n",
      "2024-08-26 14:39:35,546 ib_async.client DEBUG <<< 4,2,-1,2106,HMDS data farm connection is OK:ushmds,\n",
      "2024-08-26 14:39:35,550 ib_async.wrapper INFO Warning 2106, reqId -1: HMDS data farm connection is OK:ushmds\n",
      "2024-08-26 14:39:35,555 ib_async.client DEBUG <<< 4,2,-1,2158,Sec-def data farm connection is OK:secdefnj,\n",
      "2024-08-26 14:39:35,561 ib_async.wrapper INFO Warning 2158, reqId -1: Sec-def data farm connection is OK:secdefnj\n",
      "2024-08-26 14:39:35,566 ib_async.client INFO API connection ready\n",
      "2024-08-26 14:39:35,571 ib_async.client DEBUG >>> 61,1\n",
      "2024-08-26 14:39:35,600 ib_async.client DEBUG >>> 5,1\n",
      "2024-08-26 14:39:35,606 ib_async.client DEBUG >>> 99,0\n",
      "2024-08-26 14:39:35,611 ib_async.client DEBUG >>> 6,2,1,DUA437695\n",
      "2024-08-26 14:39:35,615 ib_async.client DEBUG >>> 76,1,10,DUA437695,,0\n",
      "2024-08-26 14:39:35,621 ib_async.client DEBUG <<< 61,3,DUA437695,53028906,EOAN,STK,,0.0,,,IBIS,EUR,EOAN,XETRA,100,12.62\n",
      "2024-08-26 14:39:35,625 ib_async.wrapper INFO position: Position(account='DUA437695', contract=Stock(conId=53028906, symbol='EOAN', exchange='IBIS', currency='EUR', localSymbol='EOAN', tradingClass='XETRA'), position=100.0, avgCost=12.62)\n",
      "2024-08-26 14:39:35,629 ib_async.client DEBUG <<< 61,3,DUA437695,14321016,EUR,CASH,,0.0,,,,JPY,EUR.JPY,EUR.JPY,0,0.0\n",
      "2024-08-26 14:39:35,632 ib_async.wrapper INFO position: Position(account='DUA437695', contract=Forex('EURJPY', conId=14321016, localSymbol='EUR.JPY', tradingClass='EUR.JPY'), position=0.0, avgCost=0.0)\n",
      "2024-08-26 14:39:35,639 ib_async.client DEBUG <<< 61,3,DUA437695,14079,ALV,STK,,0.0,,,IBIS,EUR,ALV,XETRA,100,275.03745\n",
      "2024-08-26 14:39:35,643 ib_async.wrapper INFO position: Position(account='DUA437695', contract=Stock(conId=14079, symbol='ALV', exchange='IBIS', currency='EUR', localSymbol='ALV', tradingClass='XETRA'), position=100.0, avgCost=275.03745)\n",
      "2024-08-26 14:39:35,647 ib_async.client DEBUG <<< 62,1\n",
      "2024-08-26 14:39:35,679 ib_async.client DEBUG <<< 53,1\n",
      "2024-08-26 14:39:35,781 ib_async.client DEBUG <<< 101,14079,ALV,STK,,0,?,,SMART,EUR,ALV,XETRA,BUY,0,LMT,274.9,0.0,DAY,,DUA437695,,0,,1649154956,1,0,0,,,,,,,0,,,0,,-1,,,,,,2147483647,0,0,,3,0,,0,None,,0,0,0,,0,0,,,,0,0,0,2147483647,2147483647,,,,IB,0,0,,0,Filled,0,0,0,1.7976931348623157E308,1.7976931348623157E308,0,1,0,,100,2147483647,0,Not an insider or substantial shareholder,0,0,0,20240826 09:24:18 MET,Filled Size: 100,,,,,\n",
      "2024-08-26 14:39:35,795 ib_async.client DEBUG <<< 101,13905758,6954,STK,,0,?,,SMART,JPY,6954.T,6954,BUY,100,LMT,4227.0,0.0,DAY,,DUA437695,,0,,1649154941,1,0,0,,,,,,,0,,,0,,-1,,,,,,2147483647,0,0,,3,0,,0,None,,0,0,0,,0,0,,,,0,0,0,2147483647,2147483647,,,,IB,0,0,,0,Cancelled,0,0,0,1.7976931348623157E308,1.7976931348623157E308,0,1,0,,0,2147483647,0,Not an insider or substantial shareholder,0,0,0,20240826 15:56:08 Japan,Cancelled by Trader,,,,,\n",
      "2024-08-26 14:39:35,803 ib_async.client DEBUG <<< 101,13905758,6954,STK,,0,?,,SMART,JPY,6954.T,6954,BUY,100,LMT,4227.0,0.0,DAY,,DUA437695,,0,,1649154936,0,0,0,,,,,,,0,,,0,,-1,,,,,,2147483647,0,0,,3,0,,0,None,,0,0,0,,0,0,,,,0,0,0,2147483647,2147483647,,,,IB,0,0,,0,Cancelled,0,0,0,1.7976931348623157E308,1.7976931348623157E308,0,1,0,,0,2147483647,0,Not an insider or substantial shareholder,0,0,0,20240826 15:41:19 Japan,Cancelled by Trader,,,,,\n",
      "2024-08-26 14:39:35,815 ib_async.client DEBUG <<< 101,53028906,EOAN,STK,,0,?,,SMART,EUR,EOAN,XETRA,BUY,0,LMT,12.59,0.0,DAY,,DUA437695,,0,,1649155014,0,0,0,,,,,,,0,,,0,,-1,,,,,,2147483647,0,0,,3,0,,0,None,,0,0,0,,0,0,,,,0,0,0,2147483647,2147483647,,,,IB,0,0,,0,Filled,0,0,0,1.7976931348623157E308,1.7976931348623157E308,0,1,0,,100,2147483647,0,Not an insider or substantial shareholder,0,0,0,20240826 12:28:52 MET,Filled Size: 100,,,,,\n",
      "2024-08-26 14:39:35,821 ib_async.client DEBUG <<< 101,14321016,EUR,CASH,,0,?,,IDEALPRO,JPY,EUR.JPY,EUR.JPY,SELL,0,LMT,161.03,0.0,DAY,,DUA437695,,0,,1649154928,0,0,0,,,,,,,0,,,0,,-1,,,,,,2147483647,0,0,,3,0,,0,None,,0,0,0,,0,0,,,,0,0,0,2147483647,2147483647,,,,IB,0,0,,0,Filled,0,0,0,1.7976931348623157E308,1.7976931348623157E308,0,1,0,,20000,2147483647,0,Not an insider or substantial shareholder,0,0,0,20240826 02:13:02 US/Eastern,Filled Size: 20K,,,,,\n",
      "2024-08-26 14:39:35,859 ib_async.client DEBUG <<< 102\n",
      "2024-08-26 14:39:35,898 ib_async.client DEBUG <<< 6,2,AccountCode,DUA437695,,DUA437695\n",
      "2024-08-26 14:39:35,909 ib_async.client DEBUG <<< 6,2,AccountOrGroup,DUA437695,BASE,DUA437695\n",
      "2024-08-26 14:39:35,915 ib_async.client DEBUG <<< 6,2,AccountOrGroup,DUA437695,EUR,DUA437695\n",
      "2024-08-26 14:39:35,921 ib_async.client DEBUG <<< 6,2,AccountOrGroup,DUA437695,JPY,DUA437695\n",
      "2024-08-26 14:39:35,935 ib_async.client DEBUG <<< 6,2,AccountReady,true,,DUA437695\n",
      "2024-08-26 14:39:35,939 ib_async.client DEBUG <<< 6,2,AccountType,INDIVIDUAL,,DUA437695\n",
      "2024-08-26 14:39:35,952 ib_async.client DEBUG <<< 6,2,AccruedCash,0.00,BASE,DUA437695\n",
      "2024-08-26 14:39:35,956 ib_async.client DEBUG <<< 6,2,AccruedCash,0.00,EUR,DUA437695\n",
      "2024-08-26 14:39:35,967 ib_async.client DEBUG <<< 6,2,AccruedCash,0.00,JPY,DUA437695\n",
      "2024-08-26 14:39:35,970 ib_async.client DEBUG <<< 6,2,AccruedCash-P,0.00,EUR,DUA437695\n",
      "2024-08-26 14:39:35,973 ib_async.client DEBUG <<< 6,2,AccruedDividend,0.00,EUR,DUA437695\n",
      "2024-08-26 14:39:35,976 ib_async.client DEBUG <<< 6,2,AccruedDividend-P,0.00,EUR,DUA437695\n",
      "2024-08-26 14:39:35,979 ib_async.client DEBUG <<< 6,2,AvailableFunds,990505.21,EUR,DUA437695\n",
      "2024-08-26 14:39:35,988 ib_async.client DEBUG <<< 6,2,AvailableFunds-P,0.00,EUR,DUA437695\n",
      "2024-08-26 14:39:35,991 ib_async.client DEBUG <<< 6,2,Billable,0.00,EUR,DUA437695\n",
      "2024-08-26 14:39:35,994 ib_async.client DEBUG <<< 6,2,Billable-P,0.00,EUR,DUA437695\n",
      "2024-08-26 14:39:35,998 ib_async.client DEBUG <<< 6,2,BuyingPower,6603368.08,EUR,DUA437695\n",
      "2024-08-26 14:39:36,006 ib_async.client DEBUG <<< 6,2,CashBalance,971239.3616,BASE,DUA437695\n",
      "2024-08-26 14:39:36,015 ib_async.client DEBUG <<< 6,2,CashBalance,951232.4681,EUR,DUA437695\n",
      "2024-08-26 14:39:36,029 ib_async.client DEBUG <<< 6,2,CashBalance,3220740.00,JPY,DUA437695\n",
      "2024-08-26 14:39:36,031 ib_async.client DEBUG <<< 6,2,ColumnPrio-P,5,,DUA437695\n",
      "2024-08-26 14:39:36,038 ib_async.client DEBUG <<< 6,2,ColumnPrio-S,1,,DUA437695\n",
      "2024-08-26 14:39:36,041 ib_async.client DEBUG <<< 6,2,CorporateBondValue,0.00,BASE,DUA437695\n",
      "2024-08-26 14:39:36,043 ib_async.client DEBUG <<< 6,2,CorporateBondValue,0.00,EUR,DUA437695\n",
      "2024-08-26 14:39:36,045 ib_async.client DEBUG <<< 6,2,CorporateBondValue,0.00,JPY,DUA437695\n",
      "2024-08-26 14:39:36,055 ib_async.client DEBUG <<< 6,2,Cryptocurrency,0.00,BASE,DUA437695\n",
      "2024-08-26 14:39:36,062 ib_async.client DEBUG <<< 6,2,Cryptocurrency,0.00,EUR,DUA437695\n",
      "2024-08-26 14:39:36,065 ib_async.client DEBUG <<< 6,2,Cryptocurrency,0.00,JPY,DUA437695\n",
      "2024-08-26 14:39:36,068 ib_async.client DEBUG <<< 6,2,Currency,BASE,BASE,DUA437695\n",
      "2024-08-26 14:39:36,077 ib_async.client DEBUG <<< 6,2,Currency,EUR,EUR,DUA437695\n",
      "2024-08-26 14:39:36,082 ib_async.client DEBUG <<< 6,2,Currency,JPY,JPY,DUA437695\n",
      "2024-08-26 14:39:36,091 ib_async.client DEBUG <<< 6,2,Cushion,1,,DUA437695\n",
      "2024-08-26 14:39:36,094 ib_async.client DEBUG <<< 6,2,EquityWithLoanValue,999994.36,EUR,DUA437695\n",
      "2024-08-26 14:39:36,100 ib_async.client DEBUG <<< 6,2,EquityWithLoanValue-P,0.00,EUR,DUA437695\n",
      "2024-08-26 14:39:36,103 ib_async.client DEBUG <<< 6,2,ExcessLiquidity,991367.86,EUR,DUA437695\n",
      "2024-08-26 14:39:36,106 ib_async.client DEBUG <<< 6,2,ExcessLiquidity-P,0.00,EUR,DUA437695\n",
      "2024-08-26 14:39:36,109 ib_async.client DEBUG <<< 6,2,ExchangeRate,1.00,BASE,DUA437695\n",
      "2024-08-26 14:39:36,113 ib_async.client DEBUG <<< 6,2,ExchangeRate,1.00,EUR,DUA437695\n",
      "2024-08-26 14:39:36,120 ib_async.client DEBUG <<< 6,2,ExchangeRate,0.0062097,JPY,DUA437695\n",
      "2024-08-26 14:39:36,123 ib_async.client DEBUG <<< 6,2,FullAvailableFunds,990505.21,EUR,DUA437695\n",
      "2024-08-26 14:39:36,127 ib_async.client DEBUG <<< 6,2,FullAvailableFunds-P,0.00,EUR,DUA437695\n",
      "2024-08-26 14:39:36,134 ib_async.client DEBUG <<< 6,2,FullExcessLiquidity,991367.86,EUR,DUA437695\n",
      "2024-08-26 14:39:36,158 ib_async.client DEBUG <<< 6,2,FullExcessLiquidity-P,0.00,EUR,DUA437695\n",
      "2024-08-26 14:39:36,162 ib_async.client DEBUG <<< 6,2,FullInitMarginReq,9489.15,EUR,DUA437695\n",
      "2024-08-26 14:39:36,165 ib_async.client DEBUG <<< 6,2,FullInitMarginReq-P,0.00,EUR,DUA437695\n",
      "2024-08-26 14:39:36,169 ib_async.client DEBUG <<< 6,2,FullMaintMarginReq,8626.50,EUR,DUA437695\n",
      "2024-08-26 14:39:36,182 ib_async.client DEBUG <<< 6,2,FullMaintMarginReq-P,0.00,EUR,DUA437695\n",
      "2024-08-26 14:39:36,214 ib_async.client DEBUG <<< 6,2,FundValue,0.00,BASE,DUA437695\n",
      "2024-08-26 14:39:36,229 ib_async.client DEBUG <<< 6,2,FundValue,0.00,EUR,DUA437695\n",
      "2024-08-26 14:39:36,231 ib_async.client DEBUG <<< 6,2,FundValue,0.00,JPY,DUA437695\n",
      "2024-08-26 14:39:36,234 ib_async.client DEBUG <<< 6,2,FutureOptionValue,0.00,BASE,DUA437695\n",
      "2024-08-26 14:39:36,253 ib_async.client DEBUG <<< 6,2,FutureOptionValue,0.00,EUR,DUA437695\n",
      "2024-08-26 14:39:36,264 ib_async.client DEBUG <<< 6,2,FutureOptionValue,0.00,JPY,DUA437695\n",
      "2024-08-26 14:39:36,280 ib_async.client DEBUG <<< 6,2,FuturesPNL,0.00,BASE,DUA437695\n",
      "2024-08-26 14:39:36,297 ib_async.client DEBUG <<< 6,2,FuturesPNL,0.00,EUR,DUA437695\n",
      "2024-08-26 14:39:36,299 ib_async.client DEBUG <<< 6,2,FuturesPNL,0.00,JPY,DUA437695\n",
      "2024-08-26 14:39:36,301 ib_async.client DEBUG <<< 6,2,FxCashBalance,0.00,BASE,DUA437695\n",
      "2024-08-26 14:39:36,303 ib_async.client DEBUG <<< 6,2,FxCashBalance,0.00,EUR,DUA437695\n",
      "2024-08-26 14:39:36,315 ib_async.client DEBUG <<< 6,2,FxCashBalance,0.00,JPY,DUA437695\n",
      "2024-08-26 14:39:36,318 ib_async.client DEBUG <<< 6,2,GrossPositionValue,28755.00,EUR,DUA437695\n",
      "2024-08-26 14:39:36,320 ib_async.client DEBUG <<< 6,2,GrossPositionValue-P,0.00,EUR,DUA437695\n",
      "2024-08-26 14:39:36,350 ib_async.client DEBUG <<< 6,2,Guarantee,0.00,EUR,DUA437695\n",
      "2024-08-26 14:39:36,353 ib_async.client DEBUG <<< 6,2,Guarantee-P,0.00,EUR,DUA437695\n",
      "2024-08-26 14:39:36,354 ib_async.client DEBUG <<< 6,2,IncentiveCoupons,0.00,EUR,DUA437695\n",
      "2024-08-26 14:39:36,366 ib_async.client DEBUG <<< 6,2,IncentiveCoupons-P,0.00,EUR,DUA437695\n",
      "2024-08-26 14:39:36,379 ib_async.client DEBUG <<< 6,2,IndianStockHaircut,0.00,EUR,DUA437695\n",
      "2024-08-26 14:39:36,381 ib_async.client DEBUG <<< 6,2,IndianStockHaircut-P,0.00,EUR,DUA437695\n",
      "2024-08-26 14:39:36,383 ib_async.client DEBUG <<< 6,2,InitMarginReq,9489.15,EUR,DUA437695\n",
      "2024-08-26 14:39:36,397 ib_async.client DEBUG <<< 6,2,InitMarginReq-P,0.00,EUR,DUA437695\n",
      "2024-08-26 14:39:36,400 ib_async.client DEBUG <<< 6,2,IssuerOptionValue,0.00,BASE,DUA437695\n",
      "2024-08-26 14:39:36,412 ib_async.client DEBUG <<< 6,2,IssuerOptionValue,0.00,EUR,DUA437695\n",
      "2024-08-26 14:39:36,415 ib_async.client DEBUG <<< 6,2,IssuerOptionValue,0.00,JPY,DUA437695\n",
      "2024-08-26 14:39:36,418 ib_async.client DEBUG <<< 6,2,Leverage-P,0.00,,DUA437695\n",
      "2024-08-26 14:39:36,430 ib_async.client DEBUG <<< 6,2,Leverage-S,0.03,,DUA437695\n",
      "2024-08-26 14:39:36,434 ib_async.client DEBUG <<< 6,2,LookAheadAvailableFunds,990505.21,EUR,DUA437695\n",
      "2024-08-26 14:39:36,445 ib_async.client DEBUG <<< 6,2,LookAheadAvailableFunds-P,0.00,EUR,DUA437695\n",
      "2024-08-26 14:39:36,448 ib_async.client DEBUG <<< 6,2,LookAheadExcessLiquidity,991367.86,EUR,DUA437695\n",
      "2024-08-26 14:39:36,451 ib_async.client DEBUG <<< 6,2,LookAheadExcessLiquidity-P,0.00,EUR,DUA437695\n",
      "2024-08-26 14:39:36,477 ib_async.client DEBUG <<< 6,2,LookAheadInitMarginReq,9489.15,EUR,DUA437695\n",
      "2024-08-26 14:39:36,478 ib_async.client DEBUG <<< 6,2,LookAheadInitMarginReq-P,0.00,EUR,DUA437695\n",
      "2024-08-26 14:39:36,480 ib_async.client DEBUG <<< 6,2,LookAheadMaintMarginReq,8626.50,EUR,DUA437695\n",
      "2024-08-26 14:39:36,481 ib_async.client DEBUG <<< 6,2,LookAheadMaintMarginReq-P,0.00,EUR,DUA437695\n",
      "2024-08-26 14:39:36,492 ib_async.client DEBUG <<< 6,2,LookAheadNextChange,1724685300,,DUA437695\n",
      "2024-08-26 14:39:36,494 ib_async.client DEBUG <<< 6,2,MaintMarginReq,8626.50,EUR,DUA437695\n",
      "2024-08-26 14:39:36,495 ib_async.client DEBUG <<< 6,2,MaintMarginReq-P,0.00,EUR,DUA437695\n",
      "2024-08-26 14:39:36,496 ib_async.client DEBUG <<< 6,2,MoneyMarketFundValue,0.00,BASE,DUA437695\n",
      "2024-08-26 14:39:36,508 ib_async.client DEBUG <<< 6,2,MoneyMarketFundValue,0.00,EUR,DUA437695\n",
      "2024-08-26 14:39:36,510 ib_async.client DEBUG <<< 6,2,MoneyMarketFundValue,0.00,JPY,DUA437695\n",
      "2024-08-26 14:39:36,512 ib_async.client DEBUG <<< 6,2,MutualFundValue,0.00,BASE,DUA437695\n",
      "2024-08-26 14:39:36,524 ib_async.client DEBUG <<< 6,2,MutualFundValue,0.00,EUR,DUA437695\n",
      "2024-08-26 14:39:36,526 ib_async.client DEBUG <<< 6,2,MutualFundValue,0.00,JPY,DUA437695\n",
      "2024-08-26 14:39:36,540 ib_async.client DEBUG <<< 6,2,NLVAndMarginInReview,false,,DUA437695\n",
      "2024-08-26 14:39:36,542 ib_async.client DEBUG <<< 6,2,NetDividend,0.00,BASE,DUA437695\n",
      "2024-08-26 14:39:36,557 ib_async.client DEBUG <<< 6,2,NetDividend,0.00,EUR,DUA437695\n",
      "2024-08-26 14:39:36,559 ib_async.client DEBUG <<< 6,2,NetDividend,0.00,JPY,DUA437695\n",
      "2024-08-26 14:39:36,571 ib_async.client DEBUG <<< 6,2,NetLiquidation,999994.36,EUR,DUA437695\n",
      "2024-08-26 14:39:36,573 ib_async.client DEBUG <<< 6,2,NetLiquidation-P,0.00,EUR,DUA437695\n",
      "2024-08-26 14:39:36,575 ib_async.client DEBUG <<< 6,2,NetLiquidationByCurrency,999994.3618,BASE,DUA437695\n",
      "2024-08-26 14:39:36,588 ib_async.client DEBUG <<< 6,2,NetLiquidationByCurrency,979987.4683,EUR,DUA437695\n",
      "2024-08-26 14:39:36,589 ib_async.client DEBUG <<< 6,2,NetLiquidationByCurrency,3220740.00,JPY,DUA437695\n",
      "2024-08-26 14:39:36,591 ib_async.client DEBUG <<< 6,2,NetLiquidationUncertainty,0.00,EUR,DUA437695\n",
      "2024-08-26 14:39:36,592 ib_async.client DEBUG <<< 6,2,OptionMarketValue,0.00,BASE,DUA437695\n",
      "2024-08-26 14:39:36,593 ib_async.client DEBUG <<< 6,2,OptionMarketValue,0.00,EUR,DUA437695\n",
      "2024-08-26 14:39:36,595 ib_async.client DEBUG <<< 6,2,OptionMarketValue,0.00,JPY,DUA437695\n",
      "2024-08-26 14:39:36,607 ib_async.client DEBUG <<< 6,2,PASharesValue,0.00,EUR,DUA437695\n",
      "2024-08-26 14:39:36,609 ib_async.client DEBUG <<< 6,2,PASharesValue-P,0.00,EUR,DUA437695\n",
      "2024-08-26 14:39:36,610 ib_async.client DEBUG <<< 6,2,PhysicalCertificateValue,0.00,EUR,DUA437695\n",
      "2024-08-26 14:39:36,624 ib_async.client DEBUG <<< 6,2,PhysicalCertificateValue-P,0.00,EUR,DUA437695\n",
      "2024-08-26 14:39:36,632 ib_async.client DEBUG <<< 6,2,PostExpirationExcess,0.00,EUR,DUA437695\n",
      "2024-08-26 14:39:36,634 ib_async.client DEBUG <<< 6,2,PostExpirationExcess-P,0.00,EUR,DUA437695\n",
      "2024-08-26 14:39:36,641 ib_async.client DEBUG <<< 6,2,PostExpirationMargin,0.00,EUR,DUA437695\n",
      "2024-08-26 14:39:36,644 ib_async.client DEBUG <<< 6,2,PostExpirationMargin-P,0.00,EUR,DUA437695\n",
      "2024-08-26 14:39:36,646 ib_async.client DEBUG <<< 6,2,RealCurrency,BASE,BASE,DUA437695\n",
      "2024-08-26 14:39:36,648 ib_async.client DEBUG <<< 6,2,RealCurrency,EUR,EUR,DUA437695\n",
      "2024-08-26 14:39:36,651 ib_async.client DEBUG <<< 6,2,RealCurrency,JPY,JPY,DUA437695\n",
      "2024-08-26 14:39:36,653 ib_async.client DEBUG <<< 6,2,RealizedPnL,0.00,BASE,DUA437695\n",
      "2024-08-26 14:39:36,655 ib_async.client DEBUG <<< 6,2,RealizedPnL,0.00,EUR,DUA437695\n",
      "2024-08-26 14:39:36,663 ib_async.client DEBUG <<< 6,2,RealizedPnL,0.00,JPY,DUA437695\n",
      "2024-08-26 14:39:36,680 ib_async.client DEBUG <<< 6,2,SegmentTitle-P,Crypto at Paxos,,DUA437695\n",
      "2024-08-26 14:39:36,682 ib_async.client DEBUG <<< 6,2,SegmentTitle-S,CFD,,DUA437695\n",
      "2024-08-26 14:39:36,685 ib_async.client DEBUG <<< 6,2,StockMarketValue,28755.00,BASE,DUA437695\n",
      "2024-08-26 14:39:36,687 ib_async.client DEBUG <<< 6,2,StockMarketValue,28755.00,EUR,DUA437695\n",
      "2024-08-26 14:39:36,689 ib_async.client DEBUG <<< 6,2,StockMarketValue,0.00,JPY,DUA437695\n",
      "2024-08-26 14:39:36,695 ib_async.client DEBUG <<< 6,2,TBillValue,0.00,BASE,DUA437695\n",
      "2024-08-26 14:39:36,697 ib_async.client DEBUG <<< 6,2,TBillValue,0.00,EUR,DUA437695\n",
      "2024-08-26 14:39:36,698 ib_async.client DEBUG <<< 6,2,TBillValue,0.00,JPY,DUA437695\n",
      "2024-08-26 14:39:36,705 ib_async.client DEBUG <<< 6,2,TBondValue,0.00,BASE,DUA437695\n",
      "2024-08-26 14:39:36,707 ib_async.client DEBUG <<< 6,2,TBondValue,0.00,EUR,DUA437695\n",
      "2024-08-26 14:39:36,708 ib_async.client DEBUG <<< 6,2,TBondValue,0.00,JPY,DUA437695\n",
      "2024-08-26 14:39:36,710 ib_async.client DEBUG <<< 6,2,TotalCashBalance,971239.3616,BASE,DUA437695\n",
      "2024-08-26 14:39:36,712 ib_async.client DEBUG <<< 6,2,TotalCashBalance,951232.4681,EUR,DUA437695\n",
      "2024-08-26 14:39:36,713 ib_async.client DEBUG <<< 6,2,TotalCashBalance,3220740.00,JPY,DUA437695\n",
      "2024-08-26 14:39:36,736 ib_async.client DEBUG <<< 6,2,TotalCashValue,971239.36,EUR,DUA437695\n",
      "2024-08-26 14:39:36,739 ib_async.client DEBUG <<< 6,2,TotalCashValue-P,0.00,EUR,DUA437695\n",
      "2024-08-26 14:39:36,741 ib_async.client DEBUG <<< 6,2,TotalDebitCardPendingCharges,0.00,EUR,DUA437695\n",
      "2024-08-26 14:39:36,742 ib_async.client DEBUG <<< 6,2,TotalDebitCardPendingCharges-P,0.00,EUR,DUA437695\n",
      "2024-08-26 14:39:36,744 ib_async.client DEBUG <<< 6,2,TradingType-S,STKNOPT,,DUA437695\n",
      "2024-08-26 14:39:36,746 ib_async.client DEBUG <<< 6,2,UnrealizedPnL,-10.74,BASE,DUA437695\n",
      "2024-08-26 14:39:36,748 ib_async.client DEBUG <<< 6,2,UnrealizedPnL,-10.74,EUR,DUA437695\n",
      "2024-08-26 14:39:36,750 ib_async.client DEBUG <<< 6,2,UnrealizedPnL,0.00,JPY,DUA437695\n",
      "2024-08-26 14:39:36,752 ib_async.client DEBUG <<< 6,2,WarrantValue,0.00,BASE,DUA437695\n",
      "2024-08-26 14:39:36,755 ib_async.client DEBUG <<< 6,2,WarrantValue,0.00,EUR,DUA437695\n",
      "2024-08-26 14:39:36,756 ib_async.client DEBUG <<< 6,2,WarrantValue,0.00,JPY,DUA437695\n",
      "2024-08-26 14:39:36,757 ib_async.client DEBUG <<< 7,8,14079,ALV,STK,,0,0,,IBIS,EUR,ALV,XETRA,100,274.94000245,27494.0,275.03745,-9.74,0.0,DUA437695\n",
      "2024-08-26 14:39:36,759 ib_async.wrapper INFO updatePortfolio: PortfolioItem(contract=Stock(conId=14079, symbol='ALV', right='0', primaryExchange='IBIS', currency='EUR', localSymbol='ALV', tradingClass='XETRA'), position=100.0, marketPrice=274.94000245, marketValue=27494.0, averageCost=275.03745, unrealizedPNL=-9.74, realizedPNL=0.0, account='DUA437695')\n",
      "2024-08-26 14:39:36,760 ib_async.client DEBUG <<< 8,1,14:36\n",
      "2024-08-26 14:39:36,761 ib_async.client DEBUG <<< 7,8,53028906,EOAN,STK,,0,0,,IBIS,EUR,EOAN,XETRA,100,12.60999965,1261.0,12.62,-1.0,0.0,DUA437695\n",
      "2024-08-26 14:39:36,762 ib_async.wrapper INFO updatePortfolio: PortfolioItem(contract=Stock(conId=53028906, symbol='EOAN', right='0', primaryExchange='IBIS', currency='EUR', localSymbol='EOAN', tradingClass='XETRA'), position=100.0, marketPrice=12.60999965, marketValue=1261.0, averageCost=12.62, unrealizedPNL=-1.0, realizedPNL=0.0, account='DUA437695')\n",
      "2024-08-26 14:39:36,763 ib_async.client DEBUG <<< 8,1,14:33\n",
      "2024-08-26 14:39:36,765 ib_async.client DEBUG <<< 8,1,14:36\n",
      "2024-08-26 14:39:36,766 ib_async.client DEBUG <<< 54,1,DUA437695\n",
      "2024-08-26 14:39:36,767 ib_async.client DEBUG <<< 73,1,10,DUA437695,,AccountCode,DUA437695,\n",
      "2024-08-26 14:39:36,769 ib_async.client DEBUG <<< 73,1,10,DUA437695,,AccountReady,true,\n",
      "2024-08-26 14:39:36,771 ib_async.client DEBUG <<< 73,1,10,DUA437695,,AccountType,INDIVIDUAL,\n",
      "2024-08-26 14:39:36,772 ib_async.client DEBUG <<< 73,1,10,DUA437695,,AccruedCash,0.00,EUR\n",
      "2024-08-26 14:39:36,775 ib_async.client DEBUG <<< 73,1,10,DUA437695,,AccruedCash-P,0.00,EUR\n",
      "2024-08-26 14:39:36,776 ib_async.client DEBUG <<< 73,1,10,DUA437695,,AccruedDividend,0.00,EUR\n",
      "2024-08-26 14:39:36,778 ib_async.client DEBUG <<< 73,1,10,DUA437695,,AccruedDividend-P,0.00,EUR\n",
      "2024-08-26 14:39:36,787 ib_async.client DEBUG <<< 73,1,10,DUA437695,,AvailableFunds,990505.21,EUR\n",
      "2024-08-26 14:39:36,789 ib_async.client DEBUG <<< 73,1,10,DUA437695,,AvailableFunds-P,0.00,EUR\n",
      "2024-08-26 14:39:36,791 ib_async.client DEBUG <<< 73,1,10,DUA437695,,Billable,0.00,EUR\n",
      "2024-08-26 14:39:36,792 ib_async.client DEBUG <<< 73,1,10,DUA437695,,Billable-P,0.00,EUR\n",
      "2024-08-26 14:39:36,793 ib_async.client DEBUG <<< 73,1,10,DUA437695,,BuyingPower,6603368.08,EUR\n",
      "2024-08-26 14:39:36,795 ib_async.client DEBUG <<< 73,1,10,DUA437695,,ColumnPrio-P,5,\n",
      "2024-08-26 14:39:36,796 ib_async.client DEBUG <<< 73,1,10,DUA437695,,ColumnPrio-S,1,\n",
      "2024-08-26 14:39:36,797 ib_async.client DEBUG <<< 73,1,10,DUA437695,,Cushion,1,\n",
      "2024-08-26 14:39:36,798 ib_async.client DEBUG <<< 73,1,10,DUA437695,,EquityWithLoanValue,999994.36,EUR\n",
      "2024-08-26 14:39:36,801 ib_async.client DEBUG <<< 73,1,10,DUA437695,,EquityWithLoanValue-P,0.00,EUR\n",
      "2024-08-26 14:39:36,803 ib_async.client DEBUG <<< 73,1,10,DUA437695,,ExcessLiquidity,991367.86,EUR\n",
      "2024-08-26 14:39:36,826 ib_async.client DEBUG <<< 73,1,10,DUA437695,,ExcessLiquidity-P,0.00,EUR\n",
      "2024-08-26 14:39:36,834 ib_async.client DEBUG <<< 73,1,10,DUA437695,,FullAvailableFunds,990505.21,EUR\n",
      "2024-08-26 14:39:36,845 ib_async.client DEBUG <<< 73,1,10,DUA437695,,FullAvailableFunds-P,0.00,EUR\n",
      "2024-08-26 14:39:36,850 ib_async.client DEBUG <<< 73,1,10,DUA437695,,FullExcessLiquidity,991367.86,EUR\n",
      "2024-08-26 14:39:36,855 ib_async.client DEBUG <<< 73,1,10,DUA437695,,FullExcessLiquidity-P,0.00,EUR\n",
      "2024-08-26 14:39:36,857 ib_async.client DEBUG <<< 73,1,10,DUA437695,,FullInitMarginReq,9489.15,EUR\n",
      "2024-08-26 14:39:36,859 ib_async.client DEBUG <<< 73,1,10,DUA437695,,FullInitMarginReq-P,0.00,EUR\n",
      "2024-08-26 14:39:36,866 ib_async.client DEBUG <<< 73,1,10,DUA437695,,FullMaintMarginReq,8626.50,EUR\n",
      "2024-08-26 14:39:36,869 ib_async.client DEBUG <<< 73,1,10,DUA437695,,FullMaintMarginReq-P,0.00,EUR\n",
      "2024-08-26 14:39:36,871 ib_async.client DEBUG <<< 73,1,10,DUA437695,,GrossPositionValue,28755.00,EUR\n",
      "2024-08-26 14:39:36,872 ib_async.client DEBUG <<< 73,1,10,DUA437695,,GrossPositionValue-P,0.00,EUR\n",
      "2024-08-26 14:39:36,874 ib_async.client DEBUG <<< 73,1,10,DUA437695,,Guarantee,0.00,EUR\n",
      "2024-08-26 14:39:36,875 ib_async.client DEBUG <<< 73,1,10,DUA437695,,Guarantee-P,0.00,EUR\n",
      "2024-08-26 14:39:36,877 ib_async.client DEBUG <<< 73,1,10,DUA437695,,IncentiveCoupons,0.00,EUR\n",
      "2024-08-26 14:39:36,878 ib_async.client DEBUG <<< 73,1,10,DUA437695,,IncentiveCoupons-P,0.00,EUR\n",
      "2024-08-26 14:39:36,885 ib_async.client DEBUG <<< 73,1,10,DUA437695,,IndianStockHaircut,0.00,EUR\n",
      "2024-08-26 14:39:36,889 ib_async.client DEBUG <<< 73,1,10,DUA437695,,IndianStockHaircut-P,0.00,EUR\n",
      "2024-08-26 14:39:36,890 ib_async.client DEBUG <<< 73,1,10,DUA437695,,InitMarginReq,9489.15,EUR\n",
      "2024-08-26 14:39:36,891 ib_async.client DEBUG <<< 73,1,10,DUA437695,,InitMarginReq-P,0.00,EUR\n",
      "2024-08-26 14:39:36,892 ib_async.client DEBUG <<< 73,1,10,DUA437695,,Leverage-P,0.00,\n",
      "2024-08-26 14:39:36,894 ib_async.client DEBUG <<< 73,1,10,DUA437695,,Leverage-S,0.03,\n",
      "2024-08-26 14:39:36,895 ib_async.client DEBUG <<< 73,1,10,DUA437695,,LookAheadAvailableFunds,990505.21,EUR\n",
      "2024-08-26 14:39:36,896 ib_async.client DEBUG <<< 73,1,10,DUA437695,,LookAheadAvailableFunds-P,0.00,EUR\n",
      "2024-08-26 14:39:36,910 ib_async.client DEBUG <<< 73,1,10,DUA437695,,LookAheadExcessLiquidity,991367.86,EUR\n",
      "2024-08-26 14:39:36,911 ib_async.client DEBUG <<< 73,1,10,DUA437695,,LookAheadExcessLiquidity-P,0.00,EUR\n",
      "2024-08-26 14:39:36,913 ib_async.client DEBUG <<< 73,1,10,DUA437695,,LookAheadInitMarginReq,9489.15,EUR\n",
      "2024-08-26 14:39:36,914 ib_async.client DEBUG <<< 73,1,10,DUA437695,,LookAheadInitMarginReq-P,0.00,EUR\n",
      "2024-08-26 14:39:36,916 ib_async.client DEBUG <<< 73,1,10,DUA437695,,LookAheadMaintMarginReq,8626.50,EUR\n",
      "2024-08-26 14:39:36,917 ib_async.client DEBUG <<< 73,1,10,DUA437695,,LookAheadMaintMarginReq-P,0.00,EUR\n",
      "2024-08-26 14:39:36,918 ib_async.client DEBUG <<< 73,1,10,DUA437695,,LookAheadNextChange,1724685300,\n",
      "2024-08-26 14:39:36,920 ib_async.client DEBUG <<< 73,1,10,DUA437695,,MaintMarginReq,8626.50,EUR\n",
      "2024-08-26 14:39:36,940 ib_async.client DEBUG <<< 73,1,10,DUA437695,,MaintMarginReq-P,0.00,EUR\n",
      "2024-08-26 14:39:36,945 ib_async.client DEBUG <<< 73,1,10,DUA437695,,NLVAndMarginInReview,false,\n",
      "2024-08-26 14:39:36,948 ib_async.client DEBUG <<< 73,1,10,DUA437695,,NetLiquidation,999994.36,EUR\n",
      "2024-08-26 14:39:36,960 ib_async.client DEBUG <<< 73,1,10,DUA437695,,NetLiquidation-P,0.00,EUR\n",
      "2024-08-26 14:39:36,961 ib_async.client DEBUG <<< 73,1,10,DUA437695,,NetLiquidationUncertainty,0.00,EUR\n",
      "2024-08-26 14:39:36,986 ib_async.client DEBUG <<< 73,1,10,DUA437695,,PASharesValue,0.00,EUR\n",
      "2024-08-26 14:39:36,997 ib_async.client DEBUG <<< 73,1,10,DUA437695,,PASharesValue-P,0.00,EUR\n",
      "2024-08-26 14:39:36,999 ib_async.client DEBUG <<< 73,1,10,DUA437695,,PhysicalCertificateValue,0.00,EUR\n",
      "2024-08-26 14:39:37,002 ib_async.client DEBUG <<< 73,1,10,DUA437695,,PhysicalCertificateValue-P,0.00,EUR\n",
      "2024-08-26 14:39:37,014 ib_async.client DEBUG <<< 73,1,10,DUA437695,,PostExpirationExcess,0.00,EUR\n",
      "2024-08-26 14:39:37,019 ib_async.client DEBUG <<< 73,1,10,DUA437695,,PostExpirationExcess-P,0.00,EUR\n",
      "2024-08-26 14:39:37,028 ib_async.client DEBUG <<< 73,1,10,DUA437695,,PostExpirationMargin,0.00,EUR\n",
      "2024-08-26 14:39:37,037 ib_async.client DEBUG <<< 73,1,10,DUA437695,,PostExpirationMargin-P,0.00,EUR\n",
      "2024-08-26 14:39:37,041 ib_async.client DEBUG <<< 73,1,10,DUA437695,,SegmentTitle-P,Crypto at Paxos,\n",
      "2024-08-26 14:39:37,045 ib_async.client DEBUG <<< 73,1,10,DUA437695,,SegmentTitle-S,CFD,\n",
      "2024-08-26 14:39:37,048 ib_async.client DEBUG <<< 73,1,10,DUA437695,,TotalCashValue,971239.36,EUR\n",
      "2024-08-26 14:39:37,054 ib_async.client DEBUG <<< 73,1,10,DUA437695,,TotalCashValue-P,0.00,EUR\n",
      "2024-08-26 14:39:37,058 ib_async.client DEBUG <<< 73,1,10,DUA437695,,TotalDebitCardPendingCharges,0.00,EUR\n",
      "2024-08-26 14:39:37,060 ib_async.client DEBUG <<< 73,1,10,DUA437695,,TotalDebitCardPendingCharges-P,0.00,EUR\n",
      "2024-08-26 14:39:37,066 ib_async.client DEBUG <<< 73,1,10,DUA437695,,TradingType-S,STKNOPT,\n",
      "2024-08-26 14:39:37,067 ib_async.client DEBUG <<< 73,1,10,DUA437695,,Currency,JPY,JPY\n",
      "2024-08-26 14:39:37,070 ib_async.client DEBUG <<< 73,1,10,DUA437695,,CashBalance,3220740.00,JPY\n",
      "2024-08-26 14:39:37,073 ib_async.client DEBUG <<< 73,1,10,DUA437695,,TotalCashBalance,3220740.00,JPY\n",
      "2024-08-26 14:39:37,079 ib_async.client DEBUG <<< 73,1,10,DUA437695,,AccruedCash,0.00,JPY\n",
      "2024-08-26 14:39:37,083 ib_async.client DEBUG <<< 73,1,10,DUA437695,,StockMarketValue,0.00,JPY\n",
      "2024-08-26 14:39:37,089 ib_async.client DEBUG <<< 73,1,10,DUA437695,,OptionMarketValue,0.00,JPY\n",
      "2024-08-26 14:39:37,092 ib_async.client DEBUG <<< 73,1,10,DUA437695,,FutureOptionValue,0.00,JPY\n",
      "2024-08-26 14:39:37,093 ib_async.client DEBUG <<< 73,1,10,DUA437695,,FuturesPNL,0.00,JPY\n",
      "2024-08-26 14:39:37,095 ib_async.client DEBUG <<< 73,1,10,DUA437695,,NetLiquidationByCurrency,3220740.00,JPY\n",
      "2024-08-26 14:39:37,101 ib_async.client DEBUG <<< 73,1,10,DUA437695,,UnrealizedPnL,0.00,JPY\n",
      "2024-08-26 14:39:37,106 ib_async.client DEBUG <<< 73,1,10,DUA437695,,RealizedPnL,0.00,JPY\n",
      "2024-08-26 14:39:37,108 ib_async.client DEBUG <<< 73,1,10,DUA437695,,ExchangeRate,0.0062097,JPY\n",
      "2024-08-26 14:39:37,110 ib_async.client DEBUG <<< 73,1,10,DUA437695,,FundValue,0.00,JPY\n",
      "2024-08-26 14:39:37,120 ib_async.client DEBUG <<< 73,1,10,DUA437695,,NetDividend,0.00,JPY\n",
      "2024-08-26 14:39:37,123 ib_async.client DEBUG <<< 73,1,10,DUA437695,,MutualFundValue,0.00,JPY\n",
      "2024-08-26 14:39:37,125 ib_async.client DEBUG <<< 73,1,10,DUA437695,,MoneyMarketFundValue,0.00,JPY\n",
      "2024-08-26 14:39:37,126 ib_async.client DEBUG <<< 73,1,10,DUA437695,,CorporateBondValue,0.00,JPY\n",
      "2024-08-26 14:39:37,128 ib_async.client DEBUG <<< 73,1,10,DUA437695,,TBondValue,0.00,JPY\n",
      "2024-08-26 14:39:37,129 ib_async.client DEBUG <<< 73,1,10,DUA437695,,TBillValue,0.00,JPY\n",
      "2024-08-26 14:39:37,132 ib_async.client DEBUG <<< 73,1,10,DUA437695,,WarrantValue,0.00,JPY\n",
      "2024-08-26 14:39:37,133 ib_async.client DEBUG <<< 73,1,10,DUA437695,,FxCashBalance,0.00,JPY\n",
      "2024-08-26 14:39:37,135 ib_async.client DEBUG <<< 73,1,10,DUA437695,,AccountOrGroup,DUA437695,JPY\n",
      "2024-08-26 14:39:37,141 ib_async.client DEBUG <<< 73,1,10,DUA437695,,RealCurrency,JPY,JPY\n",
      "2024-08-26 14:39:37,142 ib_async.client DEBUG <<< 73,1,10,DUA437695,,IssuerOptionValue,0.00,JPY\n",
      "2024-08-26 14:39:37,143 ib_async.client DEBUG <<< 73,1,10,DUA437695,,Cryptocurrency,0.00,JPY\n",
      "2024-08-26 14:39:37,145 ib_async.client DEBUG <<< 73,1,10,DUA437695,,Currency,EUR,EUR\n",
      "2024-08-26 14:39:37,146 ib_async.client DEBUG <<< 73,1,10,DUA437695,,CashBalance,951232.4681,EUR\n",
      "2024-08-26 14:39:37,159 ib_async.client DEBUG <<< 73,1,10,DUA437695,,TotalCashBalance,951232.4681,EUR\n",
      "2024-08-26 14:39:37,161 ib_async.client DEBUG <<< 73,1,10,DUA437695,,AccruedCash,0.00,EUR\n",
      "2024-08-26 14:39:37,162 ib_async.client DEBUG <<< 73,1,10,DUA437695,,StockMarketValue,28755.00,EUR\n",
      "2024-08-26 14:39:37,163 ib_async.client DEBUG <<< 73,1,10,DUA437695,,OptionMarketValue,0.00,EUR\n",
      "2024-08-26 14:39:37,165 ib_async.client DEBUG <<< 73,1,10,DUA437695,,FutureOptionValue,0.00,EUR\n",
      "2024-08-26 14:39:37,166 ib_async.client DEBUG <<< 73,1,10,DUA437695,,FuturesPNL,0.00,EUR\n",
      "2024-08-26 14:39:37,167 ib_async.client DEBUG <<< 73,1,10,DUA437695,,NetLiquidationByCurrency,979987.4683,EUR\n",
      "2024-08-26 14:39:37,178 ib_async.client DEBUG <<< 73,1,10,DUA437695,,UnrealizedPnL,-10.74,EUR\n",
      "2024-08-26 14:39:37,179 ib_async.client DEBUG <<< 73,1,10,DUA437695,,RealizedPnL,0.00,EUR\n",
      "2024-08-26 14:39:37,181 ib_async.client DEBUG <<< 73,1,10,DUA437695,,ExchangeRate,1.00,EUR\n",
      "2024-08-26 14:39:37,183 ib_async.client DEBUG <<< 73,1,10,DUA437695,,FundValue,0.00,EUR\n",
      "2024-08-26 14:39:37,193 ib_async.client DEBUG <<< 73,1,10,DUA437695,,NetDividend,0.00,EUR\n",
      "2024-08-26 14:39:37,195 ib_async.client DEBUG <<< 73,1,10,DUA437695,,MutualFundValue,0.00,EUR\n",
      "2024-08-26 14:39:37,196 ib_async.client DEBUG <<< 73,1,10,DUA437695,,MoneyMarketFundValue,0.00,EUR\n",
      "2024-08-26 14:39:37,215 ib_async.client DEBUG <<< 73,1,10,DUA437695,,CorporateBondValue,0.00,EUR\n",
      "2024-08-26 14:39:37,220 ib_async.client DEBUG <<< 73,1,10,DUA437695,,TBondValue,0.00,EUR\n",
      "2024-08-26 14:39:37,223 ib_async.client DEBUG <<< 73,1,10,DUA437695,,TBillValue,0.00,EUR\n",
      "2024-08-26 14:39:37,226 ib_async.client DEBUG <<< 73,1,10,DUA437695,,WarrantValue,0.00,EUR\n",
      "2024-08-26 14:39:37,227 ib_async.client DEBUG <<< 73,1,10,DUA437695,,FxCashBalance,0.00,EUR\n",
      "2024-08-26 14:39:37,229 ib_async.client DEBUG <<< 73,1,10,DUA437695,,AccountOrGroup,DUA437695,EUR\n",
      "2024-08-26 14:39:37,232 ib_async.client DEBUG <<< 73,1,10,DUA437695,,RealCurrency,EUR,EUR\n",
      "2024-08-26 14:39:37,235 ib_async.client DEBUG <<< 73,1,10,DUA437695,,IssuerOptionValue,0.00,EUR\n",
      "2024-08-26 14:39:37,238 ib_async.client DEBUG <<< 73,1,10,DUA437695,,Cryptocurrency,0.00,EUR\n",
      "2024-08-26 14:39:37,241 ib_async.client DEBUG <<< 73,1,10,DUA437695,,Currency,BASE,BASE\n",
      "2024-08-26 14:39:37,248 ib_async.client DEBUG <<< 73,1,10,DUA437695,,CashBalance,971239.3616,BASE\n",
      "2024-08-26 14:39:37,250 ib_async.client DEBUG <<< 73,1,10,DUA437695,,TotalCashBalance,971239.3616,BASE\n",
      "2024-08-26 14:39:37,252 ib_async.client DEBUG <<< 73,1,10,DUA437695,,AccruedCash,0.00,BASE\n",
      "2024-08-26 14:39:37,254 ib_async.client DEBUG <<< 73,1,10,DUA437695,,StockMarketValue,28755.00,BASE\n",
      "2024-08-26 14:39:37,257 ib_async.client DEBUG <<< 73,1,10,DUA437695,,OptionMarketValue,0.00,BASE\n",
      "2024-08-26 14:39:37,258 ib_async.client DEBUG <<< 73,1,10,DUA437695,,FutureOptionValue,0.00,BASE\n",
      "2024-08-26 14:39:37,260 ib_async.client DEBUG <<< 73,1,10,DUA437695,,FuturesPNL,0.00,BASE\n",
      "2024-08-26 14:39:37,264 ib_async.client DEBUG <<< 73,1,10,DUA437695,,NetLiquidationByCurrency,999994.3618,BASE\n",
      "2024-08-26 14:39:37,265 ib_async.client DEBUG <<< 73,1,10,DUA437695,,UnrealizedPnL,-10.74,BASE\n",
      "2024-08-26 14:39:37,268 ib_async.client DEBUG <<< 73,1,10,DUA437695,,RealizedPnL,0.00,BASE\n",
      "2024-08-26 14:39:37,271 ib_async.client DEBUG <<< 73,1,10,DUA437695,,ExchangeRate,1.00,BASE\n",
      "2024-08-26 14:39:37,273 ib_async.client DEBUG <<< 73,1,10,DUA437695,,FundValue,0.00,BASE\n",
      "2024-08-26 14:39:37,275 ib_async.client DEBUG <<< 73,1,10,DUA437695,,NetDividend,0.00,BASE\n",
      "2024-08-26 14:39:37,277 ib_async.client DEBUG <<< 73,1,10,DUA437695,,MutualFundValue,0.00,BASE\n",
      "2024-08-26 14:39:37,282 ib_async.client DEBUG <<< 73,1,10,DUA437695,,MoneyMarketFundValue,0.00,BASE\n",
      "2024-08-26 14:39:37,286 ib_async.client DEBUG <<< 73,1,10,DUA437695,,CorporateBondValue,0.00,BASE\n",
      "2024-08-26 14:39:37,291 ib_async.client DEBUG <<< 73,1,10,DUA437695,,TBondValue,0.00,BASE\n",
      "2024-08-26 14:39:37,292 ib_async.client DEBUG <<< 73,1,10,DUA437695,,TBillValue,0.00,BASE\n",
      "2024-08-26 14:39:37,295 ib_async.client DEBUG <<< 73,1,10,DUA437695,,WarrantValue,0.00,BASE\n",
      "2024-08-26 14:39:37,296 ib_async.client DEBUG <<< 73,1,10,DUA437695,,FxCashBalance,0.00,BASE\n",
      "2024-08-26 14:39:37,298 ib_async.client DEBUG <<< 73,1,10,DUA437695,,AccountOrGroup,DUA437695,BASE\n",
      "2024-08-26 14:39:37,301 ib_async.client DEBUG <<< 73,1,10,DUA437695,,RealCurrency,EUR,BASE\n",
      "2024-08-26 14:39:37,303 ib_async.client DEBUG <<< 73,1,10,DUA437695,,IssuerOptionValue,0.00,BASE\n",
      "2024-08-26 14:39:37,307 ib_async.client DEBUG <<< 73,1,10,DUA437695,,Cryptocurrency,0.00,BASE\n",
      "2024-08-26 14:39:37,311 ib_async.client DEBUG <<< 74,1,10\n",
      "2024-08-26 14:39:37,317 ib_async.client DEBUG >>> 7,3,11,0,,,,,,\n",
      "2024-08-26 14:39:37,346 ib_async.client DEBUG <<< 11,11,23,14321016,EUR,CASH,,0.0,,,IDEALPRO,JPY,EUR.JPY,,0000e215.66cbb033.01.01,20240826 02:13:02 US/Eastern,DUA437695,IDEALPRO,SLD,20000,161.037,1649154928,13,0,20000,161.037,,,,,1,0\n",
      "2024-08-26 14:39:37,361 ib_async.wrapper INFO execDetails Execution(execId='0000e215.66cbb033.01.01', time=datetime.datetime(2024, 8, 26, 6, 13, 2, tzinfo=datetime.timezone.utc), acctNumber='DUA437695', exchange='IDEALPRO', side='SLD', shares=20000.0, price=161.037, permId=1649154928, clientId=13, orderId=23, liquidation=0, cumQty=20000.0, avgPrice=161.037, orderRef='', evRule='', evMultiplier=0.0, modelCode='', lastLiquidity=1, pendingPriceRevision=False)\n",
      "2024-08-26 14:39:37,363 ib_async.client DEBUG <<< 11,11,0,14079,ALV,STK,,0.0,,,SMART,EUR,ALV,,0000e859.66cc041f.01.01,20240826 09:24:18 MET,DUA437695,SMART,BOT,100,274.9,1649154956,0,0,100,274.9,,,,,2,0\n",
      "2024-08-26 14:39:37,369 ib_async.wrapper INFO execDetails Execution(execId='0000e859.66cc041f.01.01', time=datetime.datetime(2024, 8, 26, 7, 24, 18, tzinfo=datetime.timezone.utc), acctNumber='DUA437695', exchange='SMART', side='BOT', shares=100.0, price=274.9, permId=1649154956, clientId=0, orderId=0, liquidation=0, cumQty=100.0, avgPrice=274.9, orderRef='', evRule='', evMultiplier=0.0, modelCode='', lastLiquidity=2, pendingPriceRevision=False)\n",
      "2024-08-26 14:39:37,371 ib_async.client DEBUG <<< 11,11,40,53028906,EOAN,STK,,0.0,,,TGATE,EUR,EOAN,,0000e859.66cc06d1.01.01,20240826 12:28:52 MET,DUA437695,TGATE,BOT,100,12.59,1649155014,13,0,100,12.59,,,,,2,0\n",
      "2024-08-26 14:39:37,373 ib_async.wrapper INFO execDetails Execution(execId='0000e859.66cc06d1.01.01', time=datetime.datetime(2024, 8, 26, 10, 28, 52, tzinfo=datetime.timezone.utc), acctNumber='DUA437695', exchange='TGATE', side='BOT', shares=100.0, price=12.59, permId=1649155014, clientId=13, orderId=40, liquidation=0, cumQty=100.0, avgPrice=12.59, orderRef='', evRule='', evMultiplier=0.0, modelCode='', lastLiquidity=2, pendingPriceRevision=False)\n",
      "2024-08-26 14:39:37,375 ib_async.client DEBUG <<< 59,1,0000e215.66cbb033.01.01,1.78692,EUR,1.7976931348623157E308,1.7976931348623157E308,\n",
      "2024-08-26 14:39:37,378 ib_async.wrapper INFO commissionReport: CommissionReport(execId='0000e215.66cbb033.01.01', commission=1.78692, currency='EUR', realizedPNL=0.0, yield_=0.0, yieldRedemptionDate=0)\n",
      "2024-08-26 14:39:37,387 ib_async.client DEBUG <<< 59,1,0000e859.66cc041f.01.01,13.745,EUR,1.7976931348623157E308,1.7976931348623157E308,\n",
      "2024-08-26 14:39:37,389 ib_async.wrapper INFO commissionReport: CommissionReport(execId='0000e859.66cc041f.01.01', commission=13.745, currency='EUR', realizedPNL=0.0, yield_=0.0, yieldRedemptionDate=0)\n",
      "2024-08-26 14:39:37,392 ib_async.client DEBUG <<< 59,1,0000e859.66cc06d1.01.01,3.0,EUR,1.7976931348623157E308,1.7976931348623157E308,\n",
      "2024-08-26 14:39:37,394 ib_async.wrapper INFO commissionReport: CommissionReport(execId='0000e859.66cc06d1.01.01', commission=3.0, currency='EUR', realizedPNL=0.0, yield_=0.0, yieldRedemptionDate=0)\n",
      "2024-08-26 14:39:37,397 ib_async.client DEBUG <<< 55,1,11\n",
      "2024-08-26 14:39:37,400 ib_async.ib INFO Synchronization complete\n"
     ]
    },
    {
     "data": {
      "text/plain": [
       "<IB connected to 192.168.178.81:7497 clientId=14>"
      ]
     },
     "execution_count": 1,
     "metadata": {},
     "output_type": "execute_result"
    }
   ],
   "source": [
    "import pandas as pd\n",
    "import yfinance as yf\n",
    "\n",
    "from ib_async import *\n",
    "import logging\n",
    "\n",
    "\n",
    "if True:\n",
    "    util.logToConsole(logging.DEBUG)\n",
    "\n",
    "\n",
    "util.startLoop()\n",
    "\n",
    "ib = IB()\n",
    "ib.connect('192.168.178.81', 7497, clientId=14)\n"
   ]
  },
  {
   "cell_type": "markdown",
   "metadata": {},
   "source": [
    "### Get liquidation value of whole account"
   ]
  },
  {
   "cell_type": "code",
   "execution_count": 3,
   "metadata": {},
   "outputs": [
    {
     "data": {
      "text/plain": [
       "[AccountValue(account='DUA437695', tag='NetLiquidationByCurrency', value='1000003.5374', currency='BASE', modelCode='')]"
      ]
     },
     "execution_count": 3,
     "metadata": {},
     "output_type": "execute_result"
    }
   ],
   "source": [
    "[v for v in ib.accountValues() if v.tag == 'NetLiquidationByCurrency' and v.currency == 'BASE']"
   ]
  },
  {
   "cell_type": "code",
   "execution_count": 49,
   "metadata": {},
   "outputs": [
    {
     "data": {
      "text/html": [
       "<div>\n",
       "<style scoped>\n",
       "    .dataframe tbody tr th:only-of-type {\n",
       "        vertical-align: middle;\n",
       "    }\n",
       "\n",
       "    .dataframe tbody tr th {\n",
       "        vertical-align: top;\n",
       "    }\n",
       "\n",
       "    .dataframe thead th {\n",
       "        text-align: right;\n",
       "    }\n",
       "</style>\n",
       "<table border=\"1\" class=\"dataframe\">\n",
       "  <thead>\n",
       "    <tr style=\"text-align: right;\">\n",
       "      <th></th>\n",
       "      <th>conId</th>\n",
       "      <th>secType</th>\n",
       "      <th>position_type</th>\n",
       "      <th>symbol</th>\n",
       "      <th>localSymbol</th>\n",
       "      <th>exchange</th>\n",
       "      <th>currency</th>\n",
       "      <th>position</th>\n",
       "      <th>avgCost</th>\n",
       "    </tr>\n",
       "  </thead>\n",
       "  <tbody>\n",
       "    <tr>\n",
       "      <th>0</th>\n",
       "      <td>53028906</td>\n",
       "      <td>STK</td>\n",
       "      <td>LONG</td>\n",
       "      <td>EOAN</td>\n",
       "      <td>EOAN</td>\n",
       "      <td>IBIS</td>\n",
       "      <td>EUR</td>\n",
       "      <td>100.0</td>\n",
       "      <td>12.62000</td>\n",
       "    </tr>\n",
       "    <tr>\n",
       "      <th>1</th>\n",
       "      <td>14079</td>\n",
       "      <td>STK</td>\n",
       "      <td>LONG</td>\n",
       "      <td>ALV</td>\n",
       "      <td>ALV</td>\n",
       "      <td>IBIS</td>\n",
       "      <td>EUR</td>\n",
       "      <td>100.0</td>\n",
       "      <td>275.03745</td>\n",
       "    </tr>\n",
       "    <tr>\n",
       "      <th>2</th>\n",
       "      <td>521962337</td>\n",
       "      <td>STK</td>\n",
       "      <td>LONG</td>\n",
       "      <td>IBC1</td>\n",
       "      <td>IBC1</td>\n",
       "      <td>GETTEX2</td>\n",
       "      <td>EUR</td>\n",
       "      <td>100.0</td>\n",
       "      <td>100.47021</td>\n",
       "    </tr>\n",
       "    <tr>\n",
       "      <th>3</th>\n",
       "      <td>68598660</td>\n",
       "      <td>STK</td>\n",
       "      <td>SHORT</td>\n",
       "      <td>BAYN</td>\n",
       "      <td>BAYN</td>\n",
       "      <td>IBIS</td>\n",
       "      <td>EUR</td>\n",
       "      <td>-100.0</td>\n",
       "      <td>27.55000</td>\n",
       "    </tr>\n",
       "  </tbody>\n",
       "</table>\n",
       "</div>"
      ],
      "text/plain": [
       "       conId secType position_type symbol localSymbol exchange currency  \\\n",
       "0   53028906     STK          LONG   EOAN        EOAN     IBIS      EUR   \n",
       "1      14079     STK          LONG    ALV         ALV     IBIS      EUR   \n",
       "2  521962337     STK          LONG   IBC1        IBC1  GETTEX2      EUR   \n",
       "3   68598660     STK         SHORT   BAYN        BAYN     IBIS      EUR   \n",
       "\n",
       "   position    avgCost  \n",
       "0     100.0   12.62000  \n",
       "1     100.0  275.03745  \n",
       "2     100.0  100.47021  \n",
       "3    -100.0   27.55000  "
      ]
     },
     "execution_count": 49,
     "metadata": {},
     "output_type": "execute_result"
    }
   ],
   "source": [
    "portfolio_pos = []\n",
    "for position in ib.positions():\n",
    "    contract = position.contract\n",
    "    position_type = 'LONG' if position.position > 0.0 else 'SHORT'\n",
    "    #print(f\"{contract.conId}, {contract.secType}, {position_type}, {contract.symbol}, {contract.localSymbol}, {contract.exchange}, {contract.currency}, {position.position:8.2f}, {position.avgCost:8.2f}\")\n",
    "    portfolio_pos.append(\n",
    "        [\n",
    "            contract.conId,\n",
    "            contract.secType,\n",
    "            position_type,\n",
    "            contract.symbol,\n",
    "            contract.localSymbol,\n",
    "            contract.exchange,\n",
    "            contract.currency,\n",
    "            position.position,\n",
    "            position.avgCost,\n",
    "        ]\n",
    "    )\n",
    "\n",
    "portfolio_df = pd.DataFrame(portfolio_pos, columns=['conId', 'secType', 'position_type', 'symbol', 'localSymbol', 'exchange', 'currency', 'position', 'avgCost'])\n",
    "\n",
    "del portfolio_pos, contract, position_type\n",
    "portfolio_df"
   ]
  },
  {
   "cell_type": "code",
   "execution_count": 73,
   "metadata": {},
   "outputs": [
    {
     "data": {
      "text/html": [
       "<div>\n",
       "<style scoped>\n",
       "    .dataframe tbody tr th:only-of-type {\n",
       "        vertical-align: middle;\n",
       "    }\n",
       "\n",
       "    .dataframe tbody tr th {\n",
       "        vertical-align: top;\n",
       "    }\n",
       "\n",
       "    .dataframe thead th {\n",
       "        text-align: right;\n",
       "    }\n",
       "</style>\n",
       "<table border=\"1\" class=\"dataframe\">\n",
       "  <thead>\n",
       "    <tr style=\"text-align: right;\">\n",
       "      <th></th>\n",
       "      <th>conId</th>\n",
       "      <th>secType</th>\n",
       "      <th>position_type</th>\n",
       "      <th>symbol</th>\n",
       "      <th>localSymbol</th>\n",
       "      <th>exchange</th>\n",
       "      <th>currency</th>\n",
       "      <th>position</th>\n",
       "      <th>avgCost</th>\n",
       "      <th>exchange_sym</th>\n",
       "      <th>yf_sym</th>\n",
       "    </tr>\n",
       "  </thead>\n",
       "  <tbody>\n",
       "    <tr>\n",
       "      <th>0</th>\n",
       "      <td>53028906</td>\n",
       "      <td>STK</td>\n",
       "      <td>LONG</td>\n",
       "      <td>EOAN</td>\n",
       "      <td>EOAN</td>\n",
       "      <td>IBIS</td>\n",
       "      <td>EUR</td>\n",
       "      <td>100.0</td>\n",
       "      <td>12.62000</td>\n",
       "      <td>DE</td>\n",
       "      <td>EOAN.DE</td>\n",
       "    </tr>\n",
       "    <tr>\n",
       "      <th>1</th>\n",
       "      <td>14079</td>\n",
       "      <td>STK</td>\n",
       "      <td>LONG</td>\n",
       "      <td>ALV</td>\n",
       "      <td>ALV</td>\n",
       "      <td>IBIS</td>\n",
       "      <td>EUR</td>\n",
       "      <td>100.0</td>\n",
       "      <td>275.03745</td>\n",
       "      <td>DE</td>\n",
       "      <td>ALV.DE</td>\n",
       "    </tr>\n",
       "    <tr>\n",
       "      <th>2</th>\n",
       "      <td>521962337</td>\n",
       "      <td>STK</td>\n",
       "      <td>LONG</td>\n",
       "      <td>IBC1</td>\n",
       "      <td>IBC1</td>\n",
       "      <td>GETTEX2</td>\n",
       "      <td>EUR</td>\n",
       "      <td>100.0</td>\n",
       "      <td>100.47021</td>\n",
       "      <td>MU</td>\n",
       "      <td>IBC1.MU</td>\n",
       "    </tr>\n",
       "    <tr>\n",
       "      <th>3</th>\n",
       "      <td>68598660</td>\n",
       "      <td>STK</td>\n",
       "      <td>SHORT</td>\n",
       "      <td>BAYN</td>\n",
       "      <td>BAYN</td>\n",
       "      <td>IBIS</td>\n",
       "      <td>EUR</td>\n",
       "      <td>-100.0</td>\n",
       "      <td>27.55000</td>\n",
       "      <td>DE</td>\n",
       "      <td>BAYN.DE</td>\n",
       "    </tr>\n",
       "  </tbody>\n",
       "</table>\n",
       "</div>"
      ],
      "text/plain": [
       "       conId secType position_type symbol localSymbol exchange currency  \\\n",
       "0   53028906     STK          LONG   EOAN        EOAN     IBIS      EUR   \n",
       "1      14079     STK          LONG    ALV         ALV     IBIS      EUR   \n",
       "2  521962337     STK          LONG   IBC1        IBC1  GETTEX2      EUR   \n",
       "3   68598660     STK         SHORT   BAYN        BAYN     IBIS      EUR   \n",
       "\n",
       "   position    avgCost exchange_sym   yf_sym  \n",
       "0     100.0   12.62000           DE  EOAN.DE  \n",
       "1     100.0  275.03745           DE   ALV.DE  \n",
       "2     100.0  100.47021           MU  IBC1.MU  \n",
       "3    -100.0   27.55000           DE  BAYN.DE  "
      ]
     },
     "execution_count": 73,
     "metadata": {},
     "output_type": "execute_result"
    }
   ],
   "source": [
    "exchange_map = {\n",
    "    'IBIS': 'DE',\n",
    "    'GETTEX2': 'MU'\n",
    "}\n",
    "\n",
    "def yf_symbol(x):\n",
    "    ex = x['exchange']\n",
    "    ex_sym = x['exchange_sym']\n",
    "    sym = x['symbol']\n",
    "    loc_sym = x['localSymbol']\n",
    "\n",
    "    if not pd.isna(ex_sym):\n",
    "        return f\"{sym}.{ex_sym}\"\n",
    "    else:\n",
    "        return f\"{sym}\"\n",
    "\n",
    "\n",
    "\n",
    "portfolio_df['exchange_sym'] = portfolio_df['exchange'].map(exchange_map, na_action='ignore')\n",
    "portfolio_df['yf_sym'] = portfolio_df.apply(yf_symbol, axis=1)\n",
    "portfolio_df"
   ]
  },
  {
   "cell_type": "code",
   "execution_count": 77,
   "metadata": {},
   "outputs": [
    {
     "name": "stderr",
     "output_type": "stream",
     "text": [
      "2024-08-26 18:49:32,184 yfinance DEBUG Entering download()\n",
      "2024-08-26 18:49:32,192 yfinance DEBUG Disabling multithreading because DEBUG logging enabled\n",
      "2024-08-26 18:49:32,262 yfinance DEBUG  Entering history()\n",
      "2024-08-26 18:49:32,338 peewee DEBUG ('SELECT \"t1\".\"key\", \"t1\".\"value\" FROM \"_kv\" AS \"t1\" WHERE (\"t1\".\"key\" = ?) LIMIT ? OFFSET ?', ['EOAN.DE', 1, 0])\n",
      "2024-08-26 18:49:32,362 yfinance DEBUG   Entering history()\n",
      "2024-08-26 18:49:32,437 yfinance DEBUG EOAN.DE: Yahoo GET parameters: {'period1': '2024-08-06 00:00:00+02:00', 'period2': '2024-08-26 00:00:00+02:00', 'interval': '1d', 'includePrePost': False, 'events': 'div,splits,capitalGains'}\n",
      "2024-08-26 18:49:32,603 yfinance DEBUG EOAN.DE: yfinance received OHLC data: 2024-08-06 07:00:00 -> 2024-08-23 07:00:00\n",
      "2024-08-26 18:49:32,673 yfinance DEBUG EOAN.DE: OHLC after cleaning: 2024-08-06 09:00:00+02:00 -> 2024-08-23 09:00:00+02:00\n",
      "2024-08-26 18:49:32,754 yfinance DEBUG EOAN.DE: OHLC after combining events: 2024-08-06 00:00:00+02:00 -> 2024-08-23 00:00:00+02:00\n",
      "2024-08-26 18:49:32,814 yfinance DEBUG EOAN.DE: yfinance returning OHLC: 2024-08-06 00:00:00+02:00 -> 2024-08-23 00:00:00+02:00\n",
      "2024-08-26 18:49:32,816 yfinance DEBUG   Exiting history()\n",
      "2024-08-26 18:49:32,820 yfinance DEBUG  Exiting history()\n",
      "2024-08-26 18:49:32,824 yfinance DEBUG Exiting download()\n",
      "2024-08-26 18:49:33,830 yfinance DEBUG Entering download()\n",
      "2024-08-26 18:49:33,834 yfinance DEBUG Disabling multithreading because DEBUG logging enabled\n",
      "2024-08-26 18:49:33,837 yfinance DEBUG  Entering history()\n",
      "2024-08-26 18:49:33,841 peewee DEBUG ('SELECT \"t1\".\"key\", \"t1\".\"value\" FROM \"_kv\" AS \"t1\" WHERE (\"t1\".\"key\" = ?) LIMIT ? OFFSET ?', ['ALV.DE', 1, 0])\n",
      "2024-08-26 18:49:33,845 yfinance DEBUG   Entering history()\n",
      "2024-08-26 18:49:33,850 yfinance DEBUG ALV.DE: Yahoo GET parameters: {'period1': '2024-08-06 00:00:00+02:00', 'period2': '2024-08-26 00:00:00+02:00', 'interval': '1d', 'includePrePost': False, 'events': 'div,splits,capitalGains'}\n",
      "2024-08-26 18:49:33,861 yfinance DEBUG ALV.DE: yfinance received OHLC data: 2024-08-06 07:00:00 -> 2024-08-23 07:00:00\n",
      "2024-08-26 18:49:33,872 yfinance DEBUG ALV.DE: OHLC after cleaning: 2024-08-06 09:00:00+02:00 -> 2024-08-23 09:00:00+02:00\n",
      "2024-08-26 18:49:33,901 yfinance DEBUG ALV.DE: OHLC after combining events: 2024-08-06 00:00:00+02:00 -> 2024-08-23 00:00:00+02:00\n",
      "2024-08-26 18:49:33,921 yfinance DEBUG ALV.DE: yfinance returning OHLC: 2024-08-06 00:00:00+02:00 -> 2024-08-23 00:00:00+02:00\n",
      "2024-08-26 18:49:33,927 yfinance DEBUG   Exiting history()\n",
      "2024-08-26 18:49:33,939 yfinance DEBUG  Exiting history()\n",
      "2024-08-26 18:49:33,945 yfinance DEBUG Exiting download()\n",
      "2024-08-26 18:49:34,949 yfinance DEBUG Entering download()\n",
      "2024-08-26 18:49:34,951 yfinance DEBUG Disabling multithreading because DEBUG logging enabled\n",
      "2024-08-26 18:49:34,954 yfinance DEBUG  Entering history()\n",
      "2024-08-26 18:49:34,959 peewee DEBUG ('SELECT \"t1\".\"key\", \"t1\".\"value\" FROM \"_kv\" AS \"t1\" WHERE (\"t1\".\"key\" = ?) LIMIT ? OFFSET ?', ['IBC1.MU', 1, 0])\n",
      "2024-08-26 18:49:34,965 yfinance DEBUG   Entering history()\n",
      "2024-08-26 18:49:34,973 yfinance DEBUG IBC1.MU: Yahoo GET parameters: {'period1': '2024-08-06 00:00:00+02:00', 'period2': '2024-08-26 00:00:00+02:00', 'interval': '1d', 'includePrePost': False, 'events': 'div,splits,capitalGains'}\n",
      "2024-08-26 18:49:34,993 yfinance DEBUG IBC1.MU: yfinance received OHLC data: 2024-08-06 06:00:00 -> 2024-08-23 06:00:00\n",
      "2024-08-26 18:49:35,009 yfinance DEBUG IBC1.MU: OHLC after cleaning: 2024-08-06 08:00:00+02:00 -> 2024-08-23 08:00:00+02:00\n",
      "2024-08-26 18:49:35,055 yfinance DEBUG IBC1.MU: OHLC after combining events: 2024-08-06 00:00:00+02:00 -> 2024-08-23 00:00:00+02:00\n",
      "2024-08-26 18:49:35,086 yfinance DEBUG IBC1.MU: yfinance returning OHLC: 2024-08-06 00:00:00+02:00 -> 2024-08-23 00:00:00+02:00\n",
      "2024-08-26 18:49:35,089 yfinance DEBUG   Exiting history()\n",
      "2024-08-26 18:49:35,094 yfinance DEBUG  Exiting history()\n",
      "2024-08-26 18:49:35,099 yfinance DEBUG Exiting download()\n",
      "2024-08-26 18:49:36,104 yfinance DEBUG Entering download()\n",
      "2024-08-26 18:49:36,106 yfinance DEBUG Disabling multithreading because DEBUG logging enabled\n",
      "2024-08-26 18:49:36,109 yfinance DEBUG  Entering history()\n",
      "2024-08-26 18:49:36,113 peewee DEBUG ('SELECT \"t1\".\"key\", \"t1\".\"value\" FROM \"_kv\" AS \"t1\" WHERE (\"t1\".\"key\" = ?) LIMIT ? OFFSET ?', ['BAYN.DE', 1, 0])\n",
      "2024-08-26 18:49:36,116 yfinance DEBUG   Entering history()\n",
      "2024-08-26 18:49:36,131 yfinance DEBUG BAYN.DE: Yahoo GET parameters: {'period1': '2024-08-06 00:00:00+02:00', 'period2': '2024-08-26 00:00:00+02:00', 'interval': '1d', 'includePrePost': False, 'events': 'div,splits,capitalGains'}\n",
      "2024-08-26 18:49:36,140 yfinance DEBUG BAYN.DE: yfinance received OHLC data: 2024-08-06 07:00:00 -> 2024-08-23 07:00:00\n",
      "2024-08-26 18:49:36,149 yfinance DEBUG BAYN.DE: OHLC after cleaning: 2024-08-06 09:00:00+02:00 -> 2024-08-23 09:00:00+02:00\n",
      "2024-08-26 18:49:36,181 yfinance DEBUG BAYN.DE: OHLC after combining events: 2024-08-06 00:00:00+02:00 -> 2024-08-23 00:00:00+02:00\n",
      "2024-08-26 18:49:36,212 yfinance DEBUG BAYN.DE: yfinance returning OHLC: 2024-08-06 00:00:00+02:00 -> 2024-08-23 00:00:00+02:00\n",
      "2024-08-26 18:49:36,215 yfinance DEBUG   Exiting history()\n",
      "2024-08-26 18:49:36,219 yfinance DEBUG  Exiting history()\n",
      "2024-08-26 18:49:36,223 yfinance DEBUG Exiting download()\n"
     ]
    }
   ],
   "source": [
    "import datetime\n",
    "import yfinance as yf\n",
    "import time\n",
    "\n",
    "periods = 10\n",
    "dt_end = datetime.datetime.today()\n",
    "# Define real-time interval:\n",
    "#  - assume to display at least the number of sample points of the larger period\n",
    "#  - this requires double the number of points to create the averaging\n",
    "#  - plus considering non-trading days - yfinance returns only trading days, howevers\n",
    "dt_data_start = dt_end - datetime.timedelta(days=periods*2)\n",
    "\n",
    "stock_data_list = []\n",
    "for symbol in portfolio_df['yf_sym'].to_list(): \n",
    "    time.sleep(1)\n",
    "    try:\n",
    "        # Grab sufficient stock data for averaging SMAs\n",
    "        load_df = yf.download(\n",
    "            symbol,\n",
    "            start=dt_data_start.strftime('%Y-%m-%d'),\n",
    "            end=dt_end.strftime('%Y-%m-%d'),\n",
    "            progress=False,\n",
    "        )\n",
    "\n",
    "        assert load_df.shape[1] == 6 and load_df.shape[0] >= periods\n",
    "        stock_data_list.append((symbol, load_df))\n",
    "\n",
    "    except AssertionError:\n",
    "        print(f\"Download failed for symbol {symbol}.  Skipping...\")"
   ]
  },
  {
   "cell_type": "code",
   "execution_count": 78,
   "metadata": {},
   "outputs": [
    {
     "name": "stdout",
     "output_type": "stream",
     "text": [
      "EOAN.DE\n",
      "ALV.DE\n",
      "IBC1.MU\n",
      "BAYN.DE\n"
     ]
    }
   ],
   "source": [
    "for (bla, cs) in stock_data_list:\n",
    "    print(bla)"
   ]
  },
  {
   "cell_type": "code",
   "execution_count": 86,
   "metadata": {},
   "outputs": [
    {
     "data": {
      "text/plain": [
       "(14, 6)"
      ]
     },
     "execution_count": 86,
     "metadata": {},
     "output_type": "execute_result"
    }
   ],
   "source": [
    "cs.shape"
   ]
  },
  {
   "cell_type": "code",
   "execution_count": 84,
   "metadata": {},
   "outputs": [
    {
     "data": {
      "text/plain": [
       "27.864999771118164"
      ]
     },
     "execution_count": 84,
     "metadata": {},
     "output_type": "execute_result"
    }
   ],
   "source": [
    "cs['Adj Close'].iloc[-1]"
   ]
  },
  {
   "cell_type": "code",
   "execution_count": 96,
   "metadata": {},
   "outputs": [
    {
     "name": "stdout",
     "output_type": "stream",
     "text": [
      "[(Timestamp('2024-08-06 00:00:00'), 1.669999122619629), (Timestamp('2024-08-20 00:00:00'), 0.9249992370605469)]\n",
      "\n",
      "    Arithmetic mean :      1.3\n",
      "    Harmonic mean   :     1.19\n",
      "    Geometric mean  :     1.24\n",
      "    \n"
     ]
    }
   ],
   "source": [
    "from importlib import reload  # Python 3.4+\n",
    "import utils.atr_utils as atr\n",
    "\n",
    "reload(atr)\n",
    "\n",
    "bla = atr.calc_atr_spikes(cs, periods=14)\n"
   ]
  },
  {
   "cell_type": "code",
   "execution_count": null,
   "metadata": {},
   "outputs": [
    {
     "name": "stderr",
     "output_type": "stream",
     "text": [
      "2024-08-26 16:29:58,720 ib_async.ib INFO Disconnecting from 192.168.178.81:7497, 120 B sent in 8 messages, 227 kB received in 4840 messages, session time 6.62 ks.\n",
      "2024-08-26 16:29:58,726 ib_async.client INFO Disconnecting\n"
     ]
    },
    {
     "name": "stderr",
     "output_type": "stream",
     "text": [
      "2024-08-26 16:29:58,756 ib_async.client INFO Disconnected.\n"
     ]
    }
   ],
   "source": [
    "ib.disconnect()"
   ]
  },
  {
   "cell_type": "markdown",
   "metadata": {},
   "source": [
    "Create a contract and a market order:"
   ]
  },
  {
   "cell_type": "code",
   "execution_count": null,
   "metadata": {},
   "outputs": [],
   "source": [
    "contract = Forex('EURUSD')\n",
    "ib.qualifyContracts(contract)\n",
    "\n",
    "order = LimitOrder('SELL', 20000, 1.11, conditionsIgnoreRth=True)"
   ]
  },
  {
   "cell_type": "markdown",
   "metadata": {},
   "source": [
    "placeOrder will place the order order and return a ``Trade`` object right away (non-blocking):"
   ]
  },
  {
   "cell_type": "code",
   "execution_count": null,
   "metadata": {},
   "outputs": [],
   "source": [
    "trade = ib.placeOrder(contract, order)"
   ]
  },
  {
   "cell_type": "markdown",
   "metadata": {},
   "source": [
    "### List orders and cancel an order"
   ]
  },
  {
   "cell_type": "code",
   "execution_count": null,
   "metadata": {},
   "outputs": [],
   "source": [
    "orders = ib.openOrders()\n",
    "orders"
   ]
  },
  {
   "cell_type": "code",
   "execution_count": null,
   "metadata": {},
   "outputs": [],
   "source": [
    "orders"
   ]
  },
  {
   "cell_type": "code",
   "execution_count": null,
   "metadata": {},
   "outputs": [],
   "source": [
    "ib.cancelOrder(order=orders[1] )"
   ]
  },
  {
   "cell_type": "markdown",
   "metadata": {},
   "source": [
    "``trade`` contains the order and everything related to it, such as order status, fills and a log.\n",
    "It will be live updated with every status change or fill of the order."
   ]
  },
  {
   "cell_type": "code",
   "execution_count": null,
   "metadata": {
    "scrolled": true
   },
   "outputs": [],
   "source": [
    "ib.sleep(1)\n",
    "trade.log"
   ]
  },
  {
   "cell_type": "markdown",
   "metadata": {},
   "source": [
    "``trade`` will also available from ``ib.trades()``:"
   ]
  },
  {
   "cell_type": "code",
   "execution_count": null,
   "metadata": {},
   "outputs": [],
   "source": [
    "assert trade in ib.trades()"
   ]
  },
  {
   "cell_type": "markdown",
   "metadata": {},
   "source": [
    "Likewise for ``order``:"
   ]
  },
  {
   "cell_type": "code",
   "execution_count": null,
   "metadata": {},
   "outputs": [],
   "source": [
    "assert order in ib.orders()"
   ]
  },
  {
   "cell_type": "markdown",
   "metadata": {},
   "source": [
    "Now let's create a limit order with an unrealistic limit:"
   ]
  },
  {
   "cell_type": "code",
   "execution_count": null,
   "metadata": {},
   "outputs": [],
   "source": [
    "limitOrder = LimitOrder('BUY', 20000, 0.05)\n",
    "limitTrade = ib.placeOrder(contract, limitOrder)\n",
    "\n",
    "limitTrade"
   ]
  },
  {
   "cell_type": "markdown",
   "metadata": {},
   "source": [
    "``status`` will change from \"PendingSubmit\" to \"Submitted\":"
   ]
  },
  {
   "cell_type": "code",
   "execution_count": null,
   "metadata": {},
   "outputs": [],
   "source": [
    "ib.sleep(1)\n",
    "assert limitTrade.orderStatus.status == 'Submitted'"
   ]
  },
  {
   "cell_type": "code",
   "execution_count": null,
   "metadata": {},
   "outputs": [],
   "source": [
    "assert limitTrade in ib.openTrades()"
   ]
  },
  {
   "cell_type": "markdown",
   "metadata": {},
   "source": [
    "Let's modify the limit price and resubmit:"
   ]
  },
  {
   "cell_type": "code",
   "execution_count": null,
   "metadata": {},
   "outputs": [],
   "source": [
    "limitOrder.lmtPrice = 0.10\n",
    "\n",
    "ib.placeOrder(contract, limitOrder)"
   ]
  },
  {
   "cell_type": "markdown",
   "metadata": {},
   "source": [
    "And now cancel it:"
   ]
  },
  {
   "cell_type": "code",
   "execution_count": null,
   "metadata": {},
   "outputs": [],
   "source": [
    "ib.cancelOrder(limitOrder)"
   ]
  },
  {
   "cell_type": "code",
   "execution_count": null,
   "metadata": {},
   "outputs": [],
   "source": [
    "limitTrade.log"
   ]
  },
  {
   "cell_type": "markdown",
   "metadata": {},
   "source": [
    "placeOrder is not blocking and will not wait on what happens with the order.\n",
    "To make the order placement blocking, that is to wait until the order is either\n",
    "filled or canceled, consider the following:"
   ]
  },
  {
   "cell_type": "code",
   "execution_count": null,
   "metadata": {},
   "outputs": [],
   "source": [
    "%%time\n",
    "order = MarketOrder('BUY', 100)\n",
    "\n",
    "trade = ib.placeOrder(contract, order)\n",
    "while not trade.isDone():\n",
    "    ib.waitOnUpdate()"
   ]
  },
  {
   "cell_type": "markdown",
   "metadata": {},
   "source": [
    "What are our positions?"
   ]
  },
  {
   "cell_type": "code",
   "execution_count": null,
   "metadata": {
    "scrolled": true
   },
   "outputs": [],
   "source": [
    "ib.positions()"
   ]
  },
  {
   "cell_type": "markdown",
   "metadata": {},
   "source": [
    "What's the total of commissions paid today?"
   ]
  },
  {
   "cell_type": "code",
   "execution_count": null,
   "metadata": {},
   "outputs": [],
   "source": [
    "sum(fill.commissionReport.commission for fill in ib.fills())"
   ]
  },
  {
   "cell_type": "markdown",
   "metadata": {},
   "source": [
    "whatIfOrder can be used to see the commission and the margin impact of an order without actually sending the order:"
   ]
  },
  {
   "cell_type": "code",
   "execution_count": null,
   "metadata": {},
   "outputs": [],
   "source": [
    "order = MarketOrder('SELL', 20000)\n",
    "ib.whatIfOrder(contract, order)"
   ]
  },
  {
   "cell_type": "code",
   "execution_count": null,
   "metadata": {},
   "outputs": [],
   "source": [
    "ib.disconnect()"
   ]
  },
  {
   "cell_type": "code",
   "execution_count": null,
   "metadata": {},
   "outputs": [],
   "source": []
  }
 ],
 "metadata": {
  "kernelspec": {
   "display_name": "Python 3",
   "language": "python",
   "name": "python3"
  },
  "language_info": {
   "codemirror_mode": {
    "name": "ipython",
    "version": 3
   },
   "file_extension": ".py",
   "mimetype": "text/x-python",
   "name": "python",
   "nbconvert_exporter": "python",
   "pygments_lexer": "ipython3",
   "version": "3.10.12"
  }
 },
 "nbformat": 4,
 "nbformat_minor": 4
}
