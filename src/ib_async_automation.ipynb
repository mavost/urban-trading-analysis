{
 "cells": [
  {
   "cell_type": "markdown",
   "metadata": {},
   "source": [
    "# Automation for IB portfolios\n",
    "\n",
    "Latest version: 2024-08-27  \n",
    "Author: MvS\n",
    "\n",
    "## Description\n",
    "\n",
    "Notebook to automate calculation and setting of stop-loss in IB portfolios\n",
    "\n",
    "## Result\n",
    "\n",
    "\n",
    "### Warning: This notebook will place live orders\n"
   ]
  },
  {
   "cell_type": "code",
   "execution_count": null,
   "metadata": {
    "scrolled": true
   },
   "outputs": [],
   "source": [
    "from ib_async import *\n",
    "import yfinance as yf\n",
    "\n",
    "import pandas as pd\n",
    "import numpy as np\n",
    "from dotenv import dotenv_values\n",
    "\n",
    "import logging\n",
    "import datetime\n",
    "import time\n",
    "\n",
    "# log everything\n",
    "if True:\n",
    "    util.logToConsole(logging.DEBUG)\n",
    "\n",
    "# ib_sysnc: notebook relevant\n",
    "util.startLoop()\n",
    "\n",
    "# read env vars\n",
    "env_dict = dotenv_values(\"../.env\")\n",
    "\n",
    "ib = IB()\n",
    "ib.connect(env_dict['IB_API_IP'], int(env_dict['IB_API_PORT']), clientId=int(env_dict['IB_API_KEY']))\n"
   ]
  },
  {
   "cell_type": "markdown",
   "metadata": {},
   "source": [
    "### Get liquidation value of whole account"
   ]
  },
  {
   "cell_type": "code",
   "execution_count": null,
   "metadata": {},
   "outputs": [],
   "source": [
    "logger = logging.getLogger(__name__)\n",
    "\n",
    "liq_balance = [(v.account, v.value, v.currency) for v in ib.accountValues() if v.tag == 'NetLiquidationByCurrency' and v.currency == 'BASE']\n",
    "\n",
    "logger.info('Printing liquidation value:')\n",
    "for counter, (acc, bal, curr) in enumerate(liq_balance, 1):\n",
    "    logger.info(f\"{acc}, {counter:0d}: {float(bal):12.2f} {curr}\")"
   ]
  },
  {
   "cell_type": "markdown",
   "metadata": {},
   "source": [
    "### Unpack cash and stock balance"
   ]
  },
  {
   "cell_type": "code",
   "execution_count": null,
   "metadata": {},
   "outputs": [],
   "source": [
    "cash_balance = [(v.account, v.value, v.currency) for v in ib.accountValues() if v.tag == 'CashBalance' and v.currency != 'BASE']\n",
    "stock_balance = [(v.account, v.value, v.currency) for v in ib.accountValues() if v.tag == 'StockMarketValue' and v.currency != 'BASE']\n",
    "\n",
    "logger.info('Printing cash balance:')\n",
    "for counter, (acc, bal, curr) in enumerate(cash_balance, 1):\n",
    "    logger.info(f\"{acc}, {counter:0d}: {float(bal):12.2f} {curr}\")\n",
    "\n",
    "logger.info('Printing stock balance:')\n",
    "for counter, (acc, bal, curr) in enumerate(stock_balance, 1):\n",
    "    logger.info(f\"{acc}, {counter:0d}: {float(bal):12.2f} {curr}\")\n",
    "    \n",
    "#ib.accountValues()"
   ]
  },
  {
   "cell_type": "markdown",
   "metadata": {},
   "source": [
    "### Unpack position balance"
   ]
  },
  {
   "cell_type": "code",
   "execution_count": null,
   "metadata": {},
   "outputs": [],
   "source": [
    "logger.info('Printing open positions:')\n",
    "portfolio_pos = []\n",
    "\n",
    "for counter, position in enumerate(ib.positions(), 1):\n",
    "\n",
    "    contract = position.contract\n",
    "    position_type = 'LONG' if position.position > 0.0 else 'SHORT'\n",
    "\n",
    "    logger.info(f\"{position.account}, {counter:0d}: {contract.conId}, {contract.secType},\\\n",
    "        {position_type}, {contract.symbol}, {contract.localSymbol},\\\n",
    "        {contract.exchange}, {contract.currency}, {position.position:8.2f},\\\n",
    "        {position.avgCost:8.2f}\")\n",
    "\n",
    "    portfolio_pos.append(\n",
    "        [\n",
    "            position.account,\n",
    "            contract.conId,\n",
    "            contract.secType,\n",
    "            position_type,\n",
    "            contract.symbol,\n",
    "            contract.localSymbol,\n",
    "            contract.exchange,\n",
    "            contract.currency,\n",
    "            position.position,\n",
    "            position.avgCost,\n",
    "        ]\n",
    "    )\n",
    "\n",
    "columns=['account', 'conId', 'secType', 'position_type', 'symbol', 'localSymbol', 'exchange', 'currency', 'position', 'avgCost']\n",
    "portfolio_df = pd.DataFrame(portfolio_pos, columns=columns)\n",
    "\n",
    "del portfolio_pos, contract, position_type, columns\n",
    "portfolio_df"
   ]
  },
  {
   "cell_type": "markdown",
   "metadata": {},
   "source": [
    "### Constructing the symbol for Yahoo Finance\n",
    "\n",
    "The list of mappings needs to be updated as soon as new securities from different exchanges are traded"
   ]
  },
  {
   "cell_type": "code",
   "execution_count": null,
   "metadata": {},
   "outputs": [],
   "source": [
    "\n",
    "exchange_map = {\n",
    "    'IBIS': 'DE',\n",
    "    'GETTEX2': 'MU',\n",
    "    'FWB': 'DE',\n",
    "}\n",
    "\n",
    "def yf_symbol(x):\n",
    "    ex = x['exchange']\n",
    "    ex_sym = x['exchange_sym']\n",
    "    sym = x['symbol']\n",
    "    loc_sym = x['localSymbol']\n",
    "\n",
    "    if not pd.isna(ex_sym):\n",
    "        return f\"{sym}.{ex_sym}\"\n",
    "    else:\n",
    "        return f\"{sym}\"\n",
    "\n",
    "portfolio_df['exchange_sym'] = portfolio_df['exchange'].map(exchange_map, na_action='ignore')\n",
    "portfolio_df['yf_sym'] = portfolio_df.apply(yf_symbol, axis=1)\n",
    "portfolio_df"
   ]
  },
  {
   "cell_type": "markdown",
   "metadata": {},
   "source": [
    "### Download market data from [Yahoo Finance](https://finance.yahoo.com/)"
   ]
  },
  {
   "cell_type": "code",
   "execution_count": null,
   "metadata": {},
   "outputs": [],
   "source": [
    "periods = 252\n",
    "dt_end = datetime.datetime.today()\n",
    "\n",
    "# Define real-time interval:\n",
    "#  - assume to display at least the number of sample points of the larger period\n",
    "#  - plus considering non-trading days - yfinance returns only trading days\n",
    "dt_data_start = dt_end - datetime.timedelta(days=365*1.2)\n",
    "\n",
    "stock_data_list = []\n",
    "stock_data_dict = {}\n",
    "\n",
    "for symbol in portfolio_df['yf_sym'].to_list(): \n",
    "    time.sleep(1)\n",
    "    try:\n",
    "        # Grab sufficient stock data for averaging SMAs\n",
    "        load_df = yf.download(\n",
    "            symbol,\n",
    "            start=dt_data_start.strftime('%Y-%m-%d'),\n",
    "            end=dt_end.strftime('%Y-%m-%d'),\n",
    "            progress=False,\n",
    "        )\n",
    "\n",
    "        assert load_df.shape[1] == 6 and load_df.shape[0] >= periods\n",
    "        # data frame for processing\n",
    "        stock_data_list.append((symbol, load_df))\n",
    "        # last security price for portfolio\n",
    "        stock_data_dict[symbol] = load_df['Adj Close'].iloc[-1]\n",
    "\n",
    "    except AssertionError:\n",
    "        print(f\"Download failed for symbol {symbol}.  Skipping...\")\n",
    "\n",
    "portfolio_df['yf_adj_close'] = portfolio_df['yf_sym'].map(stock_data_dict, na_action='ignore')\n",
    "portfolio_df"
   ]
  },
  {
   "cell_type": "markdown",
   "metadata": {},
   "source": [
    "### Calculate isolated true range spikes"
   ]
  },
  {
   "cell_type": "code",
   "execution_count": null,
   "metadata": {},
   "outputs": [],
   "source": [
    "from importlib import reload  # Python 3.4+\n",
    "import utils.atr_utils as atr\n",
    "\n",
    "reload(atr)\n",
    "\n",
    "extrema_pos = []\n",
    "for stock_symbol, stock_df in stock_data_list:\n",
    "    result_extrema = [stock_symbol] + atr.calc_atr_spikes(stock_df, periods=periods)\n",
    "    extrema_pos.append(result_extrema)\n",
    "\n",
    "columns=['yf_sym', 'HR_gmean', 'HR_ex1', 'HR_ex2', 'HR_ex3', 'LR_gmean', 'LR_ex1', 'LR_ex2', 'LR_ex3']\n",
    "extrema_df = pd.DataFrame(extrema_pos, columns=columns)\n",
    "\n",
    "res_portfolio_df = pd.merge(portfolio_df, extrema_df, on=\"yf_sym\")\n",
    "\n",
    "del extrema_pos, columns, extrema_df"
   ]
  },
  {
   "cell_type": "code",
   "execution_count": null,
   "metadata": {},
   "outputs": [],
   "source": [
    "def create_stop(x):\n",
    "    # create stop-loss ranges\n",
    "    perc = 1.000\n",
    "    tr_scaler = 1.5\n",
    "\n",
    "    last_price = x['yf_adj_close']\n",
    "    pos_type = x['position_type']\n",
    "    short = x['HR_gmean']\n",
    "    long = x['LR_gmean']\n",
    "\n",
    "    \n",
    "    if pos_type =='LONG':\n",
    "        # print(long * tr_scaler/last_price)\n",
    "        return round((last_price - long * tr_scaler) / perc, 6)\n",
    "    elif pos_type =='SHORT':\n",
    "        # print(short * tr_scaler/last_price)\n",
    "        return round((last_price + short * tr_scaler) * perc, 6)\n",
    "    else:\n",
    "        return 0.0\n",
    "\n",
    "def calc_stop_perc(x):\n",
    "\n",
    "    last_price = x['yf_adj_close']\n",
    "    quant = x['position']\n",
    "    stop = x['stop_price']\n",
    "    avg_cost = x['avgCost']\n",
    "\n",
    "    return (last_price - stop) * quant / abs(quant * avg_cost)\n",
    "\n",
    "# Calculate Stop-price\n",
    "res_portfolio_df['stop_price'] = res_portfolio_df.apply(create_stop, axis=1)\n",
    "\n",
    "# Derive a limit shift\n",
    "limit_factor = 0.01\n",
    "res_portfolio_df['limit_delta'] = round(res_portfolio_df['stop_price'] * limit_factor, 6)\n",
    "\n",
    "# Show the percentage of money at risk for this security\n",
    "res_portfolio_df['stop_perc'] = round(res_portfolio_df.apply(calc_stop_perc, axis=1), 3)\n",
    "\n",
    "res_portfolio_df"
   ]
  },
  {
   "cell_type": "markdown",
   "metadata": {},
   "source": [
    "### For each position create a contract and a stop-loss order\n",
    "\n",
    "- check tradability of contract\n",
    "- find correct price increment and scale bid (stop/limit) prices \n",
    "- close previous stop/loss setting - preserving manual orders"
   ]
  },
  {
   "cell_type": "code",
   "execution_count": null,
   "metadata": {},
   "outputs": [],
   "source": [
    "columns = ['secType', 'position_type', 'symbol', 'currency', 'exchange', 'position', 'avgCost', 'yf_adj_close', 'stop_price', 'limit_delta', 'stop_perc']\n",
    "\n",
    "set_limit_portfolio = res_portfolio_df[columns].values.tolist()\n",
    "\n",
    "\n",
    "res_portfolio_df[columns]"
   ]
  },
  {
   "cell_type": "code",
   "execution_count": null,
   "metadata": {},
   "outputs": [],
   "source": [
    "# Get required increments for setting valid bid prices\n",
    "def get_increments(symbol='NVDA', exchange='SMART', currency='USD'):\n",
    "    # Set security\n",
    "    port_stock = Stock(symbol=symbol, exchange=exchange, currency=currency)\n",
    "    # Get tradability details\n",
    "    details = ib.reqContractDetails(port_stock)\n",
    "    assert len(details) == 1\n",
    "    # Extract general exchanges and trading rules\n",
    "    rules_list = [elem.strip() for elem in details[0].marketRuleIds.split(',')]\n",
    "    exchange_list = [elem.strip() for elem in details[0].validExchanges.split(',')]\n",
    "    rules_dict = dict(zip(exchange_list, rules_list))\n",
    "    # Select specific rule set\n",
    "    rules = ib.reqMarketRule(rules_dict[exchange])\n",
    "\n",
    "    # Extract  rule set\n",
    "    rules = [(rule.lowEdge, rule.increment) for rule in rules]\n",
    "    rules.sort(key=lambda x: x[0], reverse = False)\n",
    "    return rules\n",
    "\n",
    "\n",
    "def cancel_previous_order(symbol='NVDA', currency='USD', order_type='STP LMT'):\n",
    "    # Show all open orders, including chained/manual orders without id\n",
    "    orders = ib.reqAllOpenOrders()\n",
    "\n",
    "    # Cancel all stop limit orders - the chained orders survive this\n",
    "    for order in orders:\n",
    "        if (\n",
    "                order.order.orderType == order_type \n",
    "                and order.contract.symbol == symbol\n",
    "                and order.contract.currency == currency\n",
    "                and order.order.orderId != 0\n",
    "            ):\n",
    "            trade = ib.cancelOrder(order.order)\n",
    "            logger.info(f\"Removing {order_type} order {order.order.orderId} for {symbol} trade\")\n",
    "            return trade\n",
    "        else:\n",
    "            return None\n",
    "\n",
    "# Check for tradable contracts\n",
    "for count, row in enumerate(set_limit_portfolio, 1):\n",
    "\n",
    "    if row[0] == 'STK':\n",
    "        symbol = row[2]\n",
    "        currency = row[3]\n",
    "\n",
    "        port_stock = Stock(symbol=symbol, exchange=row[4], currency=currency)\n",
    "        details = ib.reqContractDetails(port_stock)\n",
    "\n",
    "        assert len(details) == 1\n",
    "\n",
    "\n",
    "\n",
    "# Set stop limits\n",
    "for count, row in enumerate(set_limit_portfolio, 1):\n",
    "\n",
    "    if row[0] == 'STK':\n",
    "\n",
    "        exchange = 'SMART'\n",
    "        symbol = row[2]\n",
    "        currency = row[3]\n",
    "        stop = row[8]\n",
    "        quantity = abs(row[5])\n",
    "\n",
    "        if row[1] == 'LONG':\n",
    "            action = 'SELL'\n",
    "            limit = stop - row[9]\n",
    "        elif row[1] == 'SHORT':\n",
    "            action = 'BUY'\n",
    "            limit = stop + row[9]\n",
    "        else:\n",
    "            pass\n",
    "\n",
    "        port_stock = Stock(symbol=symbol, exchange=exchange, currency=currency)\n",
    "        ib.qualifyContracts(port_stock)\n",
    "        increments = get_increments(symbol=symbol, exchange=exchange, currency=currency)\n",
    "        \n",
    "        # Get largest element that is still smaller than price bid\n",
    "        increment = [inc for inc in increments if limit > inc[0]][-1][1]\n",
    "        # Adjust prices to raster\n",
    "        limit_round = int(limit / increment) * increment\n",
    "        stop_round = int(stop / increment) * increment\n",
    "\n",
    "        # Set up order\n",
    "        stopLossLimitOrder = StopLimitOrder(action=action, totalQuantity=quantity, lmtPrice=limit_round, stopPrice=stop_round)\n",
    "        stopLossLimitOrder.outsideRth = True\n",
    "        stopLossLimitOrder.tif = 'GTC'\n",
    "\n",
    "        current_price = row[7]\n",
    "\n",
    "        # Log\n",
    "        logger.info(f\"{count:0d}: Setting {action} action for {row[2]} position of {quantity:.2f} units \\\n",
    "{symbol} at currently {current_price:.2f}, \\\n",
    "with adapted stop {stop_round:.5f} and limit {limit_round:.5f} at increment {increment:.5f}\")\n",
    "#with stop {stop:.5f} and limit {limit:.5f}, \\\n",
    "        \n",
    "        # Find pre-existing orders and remove them, unless they are manual\n",
    "        cancellation = cancel_previous_order(symbol=symbol, currency=currency, order_type='STP LMT')\n",
    "        if cancellation is not None:\n",
    "            ib.sleep(1)\n",
    "            print(cancellation.orderStatus)\n",
    "        \n",
    "        # Place neworder\n",
    "        limitTrade = ib.placeOrder(port_stock, stopLossLimitOrder)\n",
    "        ib.sleep(1)\n",
    "        assert limitTrade.orderStatus.status == 'PreSubmitted'\n",
    "        print(limitTrade.orderStatus)\n"
   ]
  },
  {
   "cell_type": "markdown",
   "metadata": {},
   "source": [
    "### Close Connection"
   ]
  },
  {
   "cell_type": "code",
   "execution_count": null,
   "metadata": {},
   "outputs": [],
   "source": [
    "ib.disconnect()"
   ]
  },
  {
   "cell_type": "markdown",
   "metadata": {},
   "source": [
    "placeOrder will place the order order and return a ``Trade`` object right away (non-blocking):"
   ]
  },
  {
   "cell_type": "code",
   "execution_count": null,
   "metadata": {},
   "outputs": [],
   "source": [
    "trade = ib.placeOrder(contract, order)"
   ]
  },
  {
   "cell_type": "markdown",
   "metadata": {},
   "source": [
    "### List orders and cancel an order"
   ]
  },
  {
   "cell_type": "code",
   "execution_count": null,
   "metadata": {},
   "outputs": [],
   "source": [
    "orders = ib.openOrders()\n",
    "orders"
   ]
  },
  {
   "cell_type": "code",
   "execution_count": null,
   "metadata": {},
   "outputs": [],
   "source": [
    "orders"
   ]
  },
  {
   "cell_type": "code",
   "execution_count": null,
   "metadata": {},
   "outputs": [],
   "source": [
    "ib.cancelOrder(order=orders[1] )"
   ]
  },
  {
   "cell_type": "markdown",
   "metadata": {},
   "source": [
    "``trade`` contains the order and everything related to it, such as order status, fills and a log.\n",
    "It will be live updated with every status change or fill of the order."
   ]
  },
  {
   "cell_type": "code",
   "execution_count": null,
   "metadata": {
    "scrolled": true
   },
   "outputs": [],
   "source": [
    "ib.sleep(1)\n",
    "trade.log"
   ]
  },
  {
   "cell_type": "markdown",
   "metadata": {},
   "source": [
    "``trade`` will also available from ``ib.trades()``:"
   ]
  },
  {
   "cell_type": "code",
   "execution_count": null,
   "metadata": {},
   "outputs": [],
   "source": [
    "assert trade in ib.trades()"
   ]
  },
  {
   "cell_type": "markdown",
   "metadata": {},
   "source": [
    "Likewise for ``order``:"
   ]
  },
  {
   "cell_type": "code",
   "execution_count": null,
   "metadata": {},
   "outputs": [],
   "source": [
    "assert order in ib.orders()"
   ]
  },
  {
   "cell_type": "markdown",
   "metadata": {},
   "source": [
    "Now let's create a limit order with an unrealistic limit:"
   ]
  },
  {
   "cell_type": "code",
   "execution_count": null,
   "metadata": {},
   "outputs": [],
   "source": [
    "limitOrder = LimitOrder('BUY', 20000, 0.05)\n",
    "limitTrade = ib.placeOrder(contract, limitOrder)\n",
    "\n",
    "limitTrade"
   ]
  },
  {
   "cell_type": "markdown",
   "metadata": {},
   "source": [
    "``status`` will change from \"PendingSubmit\" to \"Submitted\":"
   ]
  },
  {
   "cell_type": "code",
   "execution_count": null,
   "metadata": {},
   "outputs": [],
   "source": [
    "ib.sleep(1)\n",
    "assert limitTrade.orderStatus.status == 'Submitted'"
   ]
  },
  {
   "cell_type": "code",
   "execution_count": null,
   "metadata": {},
   "outputs": [],
   "source": [
    "assert limitTrade in ib.openTrades()"
   ]
  },
  {
   "cell_type": "markdown",
   "metadata": {},
   "source": [
    "Let's modify the limit price and resubmit:"
   ]
  },
  {
   "cell_type": "code",
   "execution_count": null,
   "metadata": {},
   "outputs": [],
   "source": [
    "limitOrder.lmtPrice = 0.10\n",
    "\n",
    "ib.placeOrder(contract, limitOrder)"
   ]
  },
  {
   "cell_type": "markdown",
   "metadata": {},
   "source": [
    "And now cancel it:"
   ]
  },
  {
   "cell_type": "code",
   "execution_count": null,
   "metadata": {},
   "outputs": [],
   "source": [
    "ib.cancelOrder(limitOrder)"
   ]
  },
  {
   "cell_type": "code",
   "execution_count": null,
   "metadata": {},
   "outputs": [],
   "source": [
    "limitTrade.log"
   ]
  },
  {
   "cell_type": "markdown",
   "metadata": {},
   "source": [
    "placeOrder is not blocking and will not wait on what happens with the order.\n",
    "To make the order placement blocking, that is to wait until the order is either\n",
    "filled or canceled, consider the following:"
   ]
  },
  {
   "cell_type": "code",
   "execution_count": null,
   "metadata": {},
   "outputs": [],
   "source": [
    "%%time\n",
    "order = MarketOrder('BUY', 100)\n",
    "\n",
    "trade = ib.placeOrder(contract, order)\n",
    "while not trade.isDone():\n",
    "    ib.waitOnUpdate()"
   ]
  },
  {
   "cell_type": "markdown",
   "metadata": {},
   "source": [
    "What are our positions?"
   ]
  },
  {
   "cell_type": "code",
   "execution_count": null,
   "metadata": {
    "scrolled": true
   },
   "outputs": [],
   "source": [
    "ib.positions()"
   ]
  },
  {
   "cell_type": "markdown",
   "metadata": {},
   "source": [
    "What's the total of commissions paid today?"
   ]
  },
  {
   "cell_type": "code",
   "execution_count": null,
   "metadata": {},
   "outputs": [],
   "source": [
    "sum(fill.commissionReport.commission for fill in ib.fills())"
   ]
  },
  {
   "cell_type": "markdown",
   "metadata": {},
   "source": [
    "whatIfOrder can be used to see the commission and the margin impact of an order without actually sending the order:"
   ]
  },
  {
   "cell_type": "code",
   "execution_count": null,
   "metadata": {},
   "outputs": [],
   "source": [
    "order = MarketOrder('SELL', 20000)\n",
    "ib.whatIfOrder(contract, order)"
   ]
  },
  {
   "cell_type": "code",
   "execution_count": null,
   "metadata": {},
   "outputs": [],
   "source": [
    "ib.disconnect()"
   ]
  },
  {
   "cell_type": "code",
   "execution_count": null,
   "metadata": {},
   "outputs": [],
   "source": []
  }
 ],
 "metadata": {
  "kernelspec": {
   "display_name": "Python 3",
   "language": "python",
   "name": "python3"
  },
  "language_info": {
   "codemirror_mode": {
    "name": "ipython",
    "version": 3
   },
   "file_extension": ".py",
   "mimetype": "text/x-python",
   "name": "python",
   "nbconvert_exporter": "python",
   "pygments_lexer": "ipython3",
   "version": "3.10.12"
  }
 },
 "nbformat": 4,
 "nbformat_minor": 4
}
