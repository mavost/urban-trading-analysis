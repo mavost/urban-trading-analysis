{
 "cells": [
  {
   "cell_type": "markdown",
   "metadata": {},
   "source": [
    "# Automation for IB portfolios\n",
    "\n",
    "Latest version: 2024-08-27  \n",
    "Author: MvS\n",
    "\n",
    "## Description\n",
    "\n",
    "Notebook to automate calculation and setting of stop-loss in IB portfolios\n",
    "\n",
    "## Result\n",
    "\n",
    "\n",
    "### Warning: This notebook will place live orders\n"
   ]
  },
  {
   "cell_type": "code",
   "execution_count": null,
   "metadata": {
    "scrolled": true
   },
   "outputs": [],
   "source": [
    "from ib_async import *\n",
    "import yfinance as yf\n",
    "\n",
    "import pandas as pd\n",
    "import numpy as np\n",
    "from dotenv import dotenv_values\n",
    "\n",
    "import logging\n",
    "import datetime\n",
    "import time\n",
    "\n",
    "# log everything\n",
    "if True:\n",
    "    util.logToConsole(logging.DEBUG)\n",
    "\n",
    "# ib_sysnc: notebook relevant\n",
    "util.startLoop()\n",
    "\n",
    "# read env vars\n",
    "env_dict = dotenv_values(\"../.env\")\n",
    "\n",
    "ib = IB()\n",
    "ib.connect(env_dict['IB_API_IP'], int(env_dict['IB_API_PORT']), clientId=int(env_dict['IB_API_KEY']))\n"
   ]
  },
  {
   "cell_type": "markdown",
   "metadata": {},
   "source": [
    "### Get liquidation value of whole account"
   ]
  },
  {
   "cell_type": "code",
   "execution_count": null,
   "metadata": {},
   "outputs": [],
   "source": [
    "logger = logging.getLogger(__name__)\n",
    "\n",
    "liq_balance = [(v.account, v.value, v.currency) for v in ib.accountValues() if v.tag == 'NetLiquidationByCurrency' and v.currency == 'BASE']\n",
    "\n",
    "logger.info('Printing liquidation value:')\n",
    "for counter, (acc, bal, curr) in enumerate(liq_balance, 1):\n",
    "    logger.info(f\"{acc}, {counter:0d}: {float(bal):12.2f} {curr}\")"
   ]
  },
  {
   "cell_type": "markdown",
   "metadata": {},
   "source": [
    "### Unpack cash and stock balance"
   ]
  },
  {
   "cell_type": "code",
   "execution_count": null,
   "metadata": {},
   "outputs": [],
   "source": [
    "cash_balance = [(v.account, v.value, v.currency) for v in ib.accountValues() if v.tag == 'CashBalance' and v.currency != 'BASE']\n",
    "stock_balance = [(v.account, v.value, v.currency) for v in ib.accountValues() if v.tag == 'StockMarketValue' and v.currency != 'BASE']\n",
    "\n",
    "logger.info('Printing cash balance:')\n",
    "for counter, (acc, bal, curr) in enumerate(cash_balance, 1):\n",
    "    logger.info(f\"{acc}, {counter:0d}: {float(bal):12.2f} {curr}\")\n",
    "\n",
    "logger.info('Printing stock balance:')\n",
    "for counter, (acc, bal, curr) in enumerate(stock_balance, 1):\n",
    "    logger.info(f\"{acc}, {counter:0d}: {float(bal):12.2f} {curr}\")\n",
    "    \n",
    "#ib.accountValues()"
   ]
  },
  {
   "cell_type": "markdown",
   "metadata": {},
   "source": [
    "### Unpack position balance"
   ]
  },
  {
   "cell_type": "code",
   "execution_count": null,
   "metadata": {},
   "outputs": [],
   "source": [
    "logger.info('Printing open positions:')\n",
    "portfolio_pos = []\n",
    "\n",
    "for counter, position in enumerate(ib.positions(), 1):\n",
    "\n",
    "    contract = position.contract\n",
    "    position_type = 'LONG' if position.position > 0.0 else 'SHORT'\n",
    "\n",
    "    logger.info(f\"{position.account}, {counter:0d}: {contract.conId}, {contract.secType},\\\n",
    "        {position_type}, {contract.symbol}, {contract.localSymbol},\\\n",
    "        {contract.exchange}, {contract.currency}, {position.position:8.2f},\\\n",
    "        {position.avgCost:8.2f}\")\n",
    "\n",
    "    portfolio_pos.append(\n",
    "        [\n",
    "            position.account,\n",
    "            contract.conId,\n",
    "            contract.secType,\n",
    "            position_type,\n",
    "            contract.symbol,\n",
    "            contract.localSymbol,\n",
    "            contract.exchange,\n",
    "            contract.currency,\n",
    "            position.position,\n",
    "            position.avgCost,\n",
    "        ]\n",
    "    )\n",
    "\n",
    "columns=['account', 'conId', 'secType', 'position_type', 'symbol', 'localSymbol', 'exchange', 'currency', 'position', 'avgCost']\n",
    "portfolio_df = pd.DataFrame(portfolio_pos, columns=columns)\n",
    "\n",
    "del portfolio_pos, contract, position_type, columns\n",
    "portfolio_df"
   ]
  },
  {
   "cell_type": "markdown",
   "metadata": {},
   "source": [
    "### Constructing the symbol for yahoo finance\n",
    "\n",
    "The list of mappings needs to be updated as soon as new securities from different exchanges are traded"
   ]
  },
  {
   "cell_type": "code",
   "execution_count": null,
   "metadata": {},
   "outputs": [],
   "source": [
    "\n",
    "exchange_map = {\n",
    "    'IBIS': 'DE',\n",
    "    'GETTEX2': 'MU'\n",
    "}\n",
    "\n",
    "def yf_symbol(x):\n",
    "    ex = x['exchange']\n",
    "    ex_sym = x['exchange_sym']\n",
    "    sym = x['symbol']\n",
    "    loc_sym = x['localSymbol']\n",
    "\n",
    "    if not pd.isna(ex_sym):\n",
    "        return f\"{sym}.{ex_sym}\"\n",
    "    else:\n",
    "        return f\"{sym}\"\n",
    "\n",
    "portfolio_df['exchange_sym'] = portfolio_df['exchange'].map(exchange_map, na_action='ignore')\n",
    "portfolio_df['yf_sym'] = portfolio_df.apply(yf_symbol, axis=1)\n",
    "portfolio_df"
   ]
  },
  {
   "cell_type": "code",
   "execution_count": null,
   "metadata": {},
   "outputs": [],
   "source": [
    "periods = 10\n",
    "dt_end = datetime.datetime.today()\n",
    "# Define real-time interval:\n",
    "#  - assume to display at least the number of sample points of the larger period\n",
    "#  - this requires double the number of points to create the averaging\n",
    "#  - plus considering non-trading days - yfinance returns only trading days, howevers\n",
    "dt_data_start = dt_end - datetime.timedelta(days=periods*2)\n",
    "\n",
    "stock_data_list = []\n",
    "for symbol in portfolio_df['yf_sym'].to_list(): \n",
    "    time.sleep(1)\n",
    "    try:\n",
    "        # Grab sufficient stock data for averaging SMAs\n",
    "        load_df = yf.download(\n",
    "            symbol,\n",
    "            start=dt_data_start.strftime('%Y-%m-%d'),\n",
    "            end=dt_end.strftime('%Y-%m-%d'),\n",
    "            progress=False,\n",
    "        )\n",
    "\n",
    "        assert load_df.shape[1] == 6 and load_df.shape[0] >= periods\n",
    "        stock_data_list.append((symbol, load_df))\n",
    "\n",
    "    except AssertionError:\n",
    "        print(f\"Download failed for symbol {symbol}.  Skipping...\")"
   ]
  },
  {
   "cell_type": "code",
   "execution_count": null,
   "metadata": {},
   "outputs": [],
   "source": [
    "for (bla, cs) in stock_data_list:\n",
    "    print(bla)"
   ]
  },
  {
   "cell_type": "code",
   "execution_count": null,
   "metadata": {},
   "outputs": [],
   "source": [
    "cs.shape"
   ]
  },
  {
   "cell_type": "code",
   "execution_count": null,
   "metadata": {},
   "outputs": [],
   "source": [
    "cs['Adj Close'].iloc[-1]"
   ]
  },
  {
   "cell_type": "code",
   "execution_count": null,
   "metadata": {},
   "outputs": [],
   "source": [
    "from importlib import reload  # Python 3.4+\n",
    "import utils.atr_utils as atr\n",
    "\n",
    "reload(atr)\n",
    "\n",
    "bla = atr.calc_atr_spikes(cs, periods=14)\n"
   ]
  },
  {
   "cell_type": "code",
   "execution_count": null,
   "metadata": {},
   "outputs": [],
   "source": [
    "ib.disconnect()"
   ]
  },
  {
   "cell_type": "markdown",
   "metadata": {},
   "source": [
    "Create a contract and a market order:"
   ]
  },
  {
   "cell_type": "code",
   "execution_count": null,
   "metadata": {},
   "outputs": [],
   "source": [
    "contract = Forex('EURUSD')\n",
    "ib.qualifyContracts(contract)\n",
    "\n",
    "order = LimitOrder('SELL', 20000, 1.11, conditionsIgnoreRth=True)"
   ]
  },
  {
   "cell_type": "markdown",
   "metadata": {},
   "source": [
    "placeOrder will place the order order and return a ``Trade`` object right away (non-blocking):"
   ]
  },
  {
   "cell_type": "code",
   "execution_count": null,
   "metadata": {},
   "outputs": [],
   "source": [
    "trade = ib.placeOrder(contract, order)"
   ]
  },
  {
   "cell_type": "markdown",
   "metadata": {},
   "source": [
    "### List orders and cancel an order"
   ]
  },
  {
   "cell_type": "code",
   "execution_count": null,
   "metadata": {},
   "outputs": [],
   "source": [
    "orders = ib.openOrders()\n",
    "orders"
   ]
  },
  {
   "cell_type": "code",
   "execution_count": null,
   "metadata": {},
   "outputs": [],
   "source": [
    "orders"
   ]
  },
  {
   "cell_type": "code",
   "execution_count": null,
   "metadata": {},
   "outputs": [],
   "source": [
    "ib.cancelOrder(order=orders[1] )"
   ]
  },
  {
   "cell_type": "markdown",
   "metadata": {},
   "source": [
    "``trade`` contains the order and everything related to it, such as order status, fills and a log.\n",
    "It will be live updated with every status change or fill of the order."
   ]
  },
  {
   "cell_type": "code",
   "execution_count": null,
   "metadata": {
    "scrolled": true
   },
   "outputs": [],
   "source": [
    "ib.sleep(1)\n",
    "trade.log"
   ]
  },
  {
   "cell_type": "markdown",
   "metadata": {},
   "source": [
    "``trade`` will also available from ``ib.trades()``:"
   ]
  },
  {
   "cell_type": "code",
   "execution_count": null,
   "metadata": {},
   "outputs": [],
   "source": [
    "assert trade in ib.trades()"
   ]
  },
  {
   "cell_type": "markdown",
   "metadata": {},
   "source": [
    "Likewise for ``order``:"
   ]
  },
  {
   "cell_type": "code",
   "execution_count": null,
   "metadata": {},
   "outputs": [],
   "source": [
    "assert order in ib.orders()"
   ]
  },
  {
   "cell_type": "markdown",
   "metadata": {},
   "source": [
    "Now let's create a limit order with an unrealistic limit:"
   ]
  },
  {
   "cell_type": "code",
   "execution_count": null,
   "metadata": {},
   "outputs": [],
   "source": [
    "limitOrder = LimitOrder('BUY', 20000, 0.05)\n",
    "limitTrade = ib.placeOrder(contract, limitOrder)\n",
    "\n",
    "limitTrade"
   ]
  },
  {
   "cell_type": "markdown",
   "metadata": {},
   "source": [
    "``status`` will change from \"PendingSubmit\" to \"Submitted\":"
   ]
  },
  {
   "cell_type": "code",
   "execution_count": null,
   "metadata": {},
   "outputs": [],
   "source": [
    "ib.sleep(1)\n",
    "assert limitTrade.orderStatus.status == 'Submitted'"
   ]
  },
  {
   "cell_type": "code",
   "execution_count": null,
   "metadata": {},
   "outputs": [],
   "source": [
    "assert limitTrade in ib.openTrades()"
   ]
  },
  {
   "cell_type": "markdown",
   "metadata": {},
   "source": [
    "Let's modify the limit price and resubmit:"
   ]
  },
  {
   "cell_type": "code",
   "execution_count": null,
   "metadata": {},
   "outputs": [],
   "source": [
    "limitOrder.lmtPrice = 0.10\n",
    "\n",
    "ib.placeOrder(contract, limitOrder)"
   ]
  },
  {
   "cell_type": "markdown",
   "metadata": {},
   "source": [
    "And now cancel it:"
   ]
  },
  {
   "cell_type": "code",
   "execution_count": null,
   "metadata": {},
   "outputs": [],
   "source": [
    "ib.cancelOrder(limitOrder)"
   ]
  },
  {
   "cell_type": "code",
   "execution_count": null,
   "metadata": {},
   "outputs": [],
   "source": [
    "limitTrade.log"
   ]
  },
  {
   "cell_type": "markdown",
   "metadata": {},
   "source": [
    "placeOrder is not blocking and will not wait on what happens with the order.\n",
    "To make the order placement blocking, that is to wait until the order is either\n",
    "filled or canceled, consider the following:"
   ]
  },
  {
   "cell_type": "code",
   "execution_count": null,
   "metadata": {},
   "outputs": [],
   "source": [
    "%%time\n",
    "order = MarketOrder('BUY', 100)\n",
    "\n",
    "trade = ib.placeOrder(contract, order)\n",
    "while not trade.isDone():\n",
    "    ib.waitOnUpdate()"
   ]
  },
  {
   "cell_type": "markdown",
   "metadata": {},
   "source": [
    "What are our positions?"
   ]
  },
  {
   "cell_type": "code",
   "execution_count": null,
   "metadata": {
    "scrolled": true
   },
   "outputs": [],
   "source": [
    "ib.positions()"
   ]
  },
  {
   "cell_type": "markdown",
   "metadata": {},
   "source": [
    "What's the total of commissions paid today?"
   ]
  },
  {
   "cell_type": "code",
   "execution_count": null,
   "metadata": {},
   "outputs": [],
   "source": [
    "sum(fill.commissionReport.commission for fill in ib.fills())"
   ]
  },
  {
   "cell_type": "markdown",
   "metadata": {},
   "source": [
    "whatIfOrder can be used to see the commission and the margin impact of an order without actually sending the order:"
   ]
  },
  {
   "cell_type": "code",
   "execution_count": null,
   "metadata": {},
   "outputs": [],
   "source": [
    "order = MarketOrder('SELL', 20000)\n",
    "ib.whatIfOrder(contract, order)"
   ]
  },
  {
   "cell_type": "code",
   "execution_count": null,
   "metadata": {},
   "outputs": [],
   "source": [
    "ib.disconnect()"
   ]
  },
  {
   "cell_type": "code",
   "execution_count": null,
   "metadata": {},
   "outputs": [],
   "source": []
  }
 ],
 "metadata": {
  "kernelspec": {
   "display_name": "Python 3",
   "language": "python",
   "name": "python3"
  },
  "language_info": {
   "codemirror_mode": {
    "name": "ipython",
    "version": 3
   },
   "file_extension": ".py",
   "mimetype": "text/x-python",
   "name": "python",
   "nbconvert_exporter": "python",
   "pygments_lexer": "ipython3",
   "version": "3.10.12"
  }
 },
 "nbformat": 4,
 "nbformat_minor": 4
}
