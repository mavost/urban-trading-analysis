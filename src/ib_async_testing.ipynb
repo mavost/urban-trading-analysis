{
 "cells": [
  {
   "cell_type": "markdown",
   "metadata": {},
   "source": [
    "# Automation for IB portfolios\n",
    "\n",
    "Latest version: 2024-08-27  \n",
    "Author: MvS\n",
    "\n",
    "## Description\n",
    "\n",
    "Notebook to test `ib_async` module to interact with IB portfolios\n",
    "\n",
    "## Result\n",
    "\n",
    "\n",
    "### Warning: This notebook will place live orders\n"
   ]
  },
  {
   "cell_type": "code",
   "execution_count": null,
   "metadata": {
    "scrolled": true
   },
   "outputs": [],
   "source": [
    "from ib_async import *\n",
    "import yfinance as yf\n",
    "\n",
    "import pandas as pd\n",
    "import numpy as np\n",
    "from dotenv import dotenv_values\n",
    "\n",
    "import datetime\n",
    "import time\n",
    "import logging\n",
    "import sys\n",
    "\n",
    "logging.basicConfig(stream=sys.stdout, level=logging.INFO, format=\"%(asctime)s %(message)s\")\n",
    "\n",
    "# log everything\n",
    "if True:\n",
    "    util.logToConsole(logging.INFO)\n",
    "\n",
    "# ib_sysnc: notebook relevant\n",
    "util.startLoop()\n",
    "\n",
    "# read env vars\n",
    "env_dict = dotenv_values(\"../.env\")\n",
    "\n",
    "ib = IB()\n",
    "\n",
    "if ~ib.isConnected():\n",
    "    ib.connect(\n",
    "        env_dict['IB_API_IP'],\n",
    "        int(env_dict['IB_API_PORT']),\n",
    "        clientId=int(env_dict['IB_API_KEY']),\n",
    "    )"
   ]
  },
  {
   "cell_type": "markdown",
   "metadata": {},
   "source": [
    "### Get liquidation value of whole account"
   ]
  },
  {
   "cell_type": "code",
   "execution_count": null,
   "metadata": {},
   "outputs": [],
   "source": [
    "liq_balance = [\n",
    "    (v.account, v.value, v.currency)\n",
    "    for v in ib.accountValues()\n",
    "    if v.tag == 'NetLiquidationByCurrency' and v.currency == 'BASE'\n",
    "]\n",
    "\n",
    "logging.info('Printing liquidation value:')\n",
    "for counter, (acc, bal, curr) in enumerate(liq_balance, 1):\n",
    "    logging.info(f\"{acc}, {counter:0d}: {float(bal):12.2f} {curr}\")"
   ]
  },
  {
   "cell_type": "markdown",
   "metadata": {},
   "source": [
    "### Unpack cash and stock balance"
   ]
  },
  {
   "cell_type": "code",
   "execution_count": null,
   "metadata": {},
   "outputs": [],
   "source": [
    "cash_balance = [\n",
    "    (v.account, v.value, v.currency)\n",
    "    for v in ib.accountValues()\n",
    "    if v.tag == 'CashBalance' and v.currency != 'BASE'\n",
    "]\n",
    "stock_balance = [\n",
    "    (v.account, v.value, v.currency)\n",
    "    for v in ib.accountValues()\n",
    "    if v.tag == 'StockMarketValue' and v.currency != 'BASE'\n",
    "]\n",
    "\n",
    "logging.info('Printing cash balance:')\n",
    "for counter, (acc, bal, curr) in enumerate(cash_balance, 1):\n",
    "    logging.info(f\"{acc}, {counter:0d}: {float(bal):12.2f} {curr}\")\n",
    "\n",
    "logging.info('Printing stock balance:')\n",
    "for counter, (acc, bal, curr) in enumerate(stock_balance, 1):\n",
    "    logging.info(f\"{acc}, {counter:0d}: {float(bal):12.2f} {curr}\")\n",
    "\n",
    "# ib.accountValues()"
   ]
  },
  {
   "cell_type": "code",
   "execution_count": null,
   "metadata": {},
   "outputs": [],
   "source": [
    "amd = Stock('AMD', 'SMART', 'EUR')\n",
    "\n",
    "assert len(ib.reqContractDetails(amd)) == 1\n",
    "amd"
   ]
  },
  {
   "cell_type": "code",
   "execution_count": null,
   "metadata": {},
   "outputs": [],
   "source": [
    "ib.qualifyContracts(amd)\n",
    "amd"
   ]
  },
  {
   "cell_type": "code",
   "execution_count": null,
   "metadata": {},
   "outputs": [],
   "source": [
    "contract_32596680 = Contract(conId=32596680)\n",
    "\n",
    "ib.qualifyContracts(contract_32596680)\n",
    "\n",
    "assert contract_32596680 == amd"
   ]
  },
  {
   "cell_type": "code",
   "execution_count": null,
   "metadata": {},
   "outputs": [],
   "source": [
    "order = LimitOrder(action='BUY', totalQuantity=100, lmtPrice=131.22)"
   ]
  },
  {
   "cell_type": "code",
   "execution_count": null,
   "metadata": {},
   "outputs": [],
   "source": [
    "limitTrade = ib.placeOrder(amd, order)\n",
    "\n",
    "ib.sleep(1)\n",
    "assert limitTrade.orderStatus.status == 'Submitted'"
   ]
  },
  {
   "cell_type": "code",
   "execution_count": null,
   "metadata": {},
   "outputs": [],
   "source": [
    "limitTrade.orderStatus.status"
   ]
  },
  {
   "cell_type": "markdown",
   "metadata": {},
   "source": [
    "find contract in postions"
   ]
  },
  {
   "cell_type": "code",
   "execution_count": null,
   "metadata": {},
   "outputs": [],
   "source": [
    "for pos in ib.positions():\n",
    "    if pos.contract.symbol == 'AMD':\n",
    "        logging.info('found')\n",
    "        cur_contract = Contract(conId=pos.contract.conId)"
   ]
  },
  {
   "cell_type": "markdown",
   "metadata": {},
   "source": [
    "use substitution by id"
   ]
  },
  {
   "cell_type": "code",
   "execution_count": null,
   "metadata": {},
   "outputs": [],
   "source": [
    "assert contract_32596680 == amd\n",
    "logging.info(f\"Before: {cur_contract}\")\n",
    "ib.qualifyContracts(cur_contract)\n",
    "logging.info(f\"Before: {cur_contract}\")\n",
    "cur_contract"
   ]
  },
  {
   "cell_type": "markdown",
   "metadata": {},
   "source": [
    "submit stop loss order"
   ]
  },
  {
   "cell_type": "code",
   "execution_count": null,
   "metadata": {},
   "outputs": [],
   "source": [
    "stopLossLimitOrder = StopLimitOrder(\n",
    "    action='SELL',\n",
    "    totalQuantity=100.0,\n",
    "    lmtPrice=118.22,\n",
    "    stopPrice=120.22,\n",
    ")\n",
    "stopLossLimitOrder.outsideRth = True\n",
    "stopLossLimitOrder.tif = 'GTC'\n",
    "\n",
    "limitTrade = ib.placeOrder(cur_contract, stopLossLimitOrder)\n",
    "ib.sleep(1)\n",
    "assert limitTrade.orderStatus.status == 'PreSubmitted'"
   ]
  },
  {
   "cell_type": "markdown",
   "metadata": {},
   "source": [
    "find stop-loss in open trades"
   ]
  },
  {
   "cell_type": "code",
   "execution_count": null,
   "metadata": {},
   "outputs": [],
   "source": [
    "for order in ib.reqAllOpenOrders():\n",
    "    if order.contract.symbol == 'AMD' and order.order.orderType == 'STP LMT':\n",
    "        logging.info('found')\n",
    "        break\n",
    "\n",
    "order"
   ]
  },
  {
   "cell_type": "code",
   "execution_count": null,
   "metadata": {},
   "outputs": [],
   "source": [
    "cancelled_order = ib.cancelOrder(order.order)\n",
    "ib.sleep(1)\n",
    "cancelled_order"
   ]
  },
  {
   "cell_type": "code",
   "execution_count": null,
   "metadata": {},
   "outputs": [],
   "source": [
    "logging.info(limitTrade.orderStatus)"
   ]
  },
  {
   "cell_type": "code",
   "execution_count": null,
   "metadata": {},
   "outputs": [],
   "source": [
    "ib.disconnect()"
   ]
  }
 ],
 "metadata": {
  "kernelspec": {
   "display_name": "Python 3",
   "language": "python",
   "name": "python3"
  },
  "language_info": {
   "codemirror_mode": {
    "name": "ipython",
    "version": 3
   },
   "file_extension": ".py",
   "mimetype": "text/x-python",
   "name": "python",
   "nbconvert_exporter": "python",
   "pygments_lexer": "ipython3",
   "version": "3.10.12"
  }
 },
 "nbformat": 4,
 "nbformat_minor": 4
}
