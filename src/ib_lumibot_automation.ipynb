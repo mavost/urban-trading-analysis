{
 "cells": [
  {
   "cell_type": "markdown",
   "metadata": {},
   "source": [
    "# Notebook to link trading bot to IB account\n",
    "\n",
    "Latest version: 2024-08-25  \n",
    "Author: MvS\n",
    "\n",
    "## Description\n",
    "\n",
    "\n",
    "## Result\n",
    "\n",
    "\n"
   ]
  },
  {
   "cell_type": "markdown",
   "metadata": {},
   "source": [
    "### Testing, using official API client package\n",
    "\n",
    "source: [IB](https://www.interactivebrokers.com/campus/ibkr-quant-news/interactive-brokers-python-api-native-a-step-by-step-guide/)"
   ]
  },
  {
   "cell_type": "markdown",
   "metadata": {},
   "source": [
    "### Moving to Lumibot"
   ]
  },
  {
   "cell_type": "code",
   "execution_count": 1,
   "metadata": {},
   "outputs": [
    {
     "name": "stderr",
     "output_type": "stream",
     "text": [
      "2024-08-26 14:18:32 | lumibot.credentials | WARNING | \u001b[33mNo .env file found. This is ok if you are using environment variables or secrets (like on Replit, AWS, etc), but if you are not, please create a .env file in the root directory of the project.\u001b[0m\n"
     ]
    }
   ],
   "source": [
    "from lumibot.brokers import InteractiveBrokers\n",
    "from lumibot.backtesting import YahooDataBacktesting\n",
    "\n",
    "from lumibot.traders import Trader\n",
    "#from lumibot.strategies.examples import Strangle\n",
    "\n",
    "from lumibot.strategies.strategy import Strategy\n",
    "#from lumibot.entities import Asset\n",
    "\n",
    "from datetime import datetime, timedelta\n",
    "#from alpaca_trade_api import REST\n",
    "from dotenv import dotenv_values\n",
    "\n",
    "#from utils.finbert_utils import estimate_sentiment\n",
    "\n",
    "env_dict = dotenv_values(\"../.env\")"
   ]
  },
  {
   "cell_type": "code",
   "execution_count": 2,
   "metadata": {},
   "outputs": [],
   "source": [
    "INTERACTIVE_BROKERS_CONFIG = {\n",
    "    \"IP\": env_dict['IB_API_IP'],\n",
    "    \"SOCKET_PORT\": int(env_dict['IB_API_PORT']),\n",
    "    \"CLIENT_ID\": int(env_dict['IB_API_KEY']),\n",
    "}"
   ]
  },
  {
   "cell_type": "code",
   "execution_count": 3,
   "metadata": {},
   "outputs": [
    {
     "data": {
      "text/plain": [
       "{'IP': '192.168.178.81', 'SOCKET_PORT': 7497, 'CLIENT_ID': 357}"
      ]
     },
     "execution_count": 3,
     "metadata": {},
     "output_type": "execute_result"
    }
   ],
   "source": [
    "INTERACTIVE_BROKERS_CONFIG"
   ]
  },
  {
   "cell_type": "code",
   "execution_count": 4,
   "metadata": {},
   "outputs": [],
   "source": [
    "class IBTrader(Strategy):\n",
    "    def initialize(self):\n",
    "        print(f\"INFO: initializing\")\n",
    "        self.sleeptime = \"24H\"\n",
    "        self.last_trade = None\n",
    "\n",
    "        cash = self.get_cash()\n",
    "        print(f\"INFO: position sizing, cash: {cash:10.3}\")\n",
    "\n",
    "        # self.api = REST(\n",
    "        #     base_url=self.parameters[\"credentials\"][\"BASE_URL\"],\n",
    "        #     key_id=self.parameters[\"credentials\"][\"API_KEY\"],\n",
    "        #     secret_key=self.parameters[\"credentials\"][\"API_SECRET\"],\n",
    "        # )\n",
    "\n",
    "    def position_sizing(self):\n",
    "        cash = self.get_cash()\n",
    "        last_price = self.get_last_price(self.parameters[\"symbol\"])\n",
    "        quantity = round(cash * self.parameters[\"cash_at_risk\"] / last_price, 0)\n",
    "\n",
    "        return cash, last_price, quantity\n",
    "\n",
    "    def get_dates(self):\n",
    "        today = self.get_datetime()\n",
    "        three_days_prior = today - timedelta(days=3)\n",
    "\n",
    "        return today.strftime('%Y-%m-%d'), three_days_prior.strftime('%Y-%m-%d')\n",
    "\n",
    "    def get_sentiment(self):\n",
    "        symbol = self.parameters[\"symbol\"]\n",
    "        print(f\"INFO: getting news for {symbol}\")\n",
    "\n",
    "        today, three_days_prior = self.get_dates()\n",
    "        #news = self.api.get_news(symbol=symbol, start=three_days_prior, end=today)\n",
    "\n",
    "        #news = [ev.__dict__[\"_raw\"][\"headline\"] for ev in news]\n",
    "        #probability, sentiment = estimate_sentiment(news)\n",
    "\n",
    "        #return probability, sentiment\n",
    "        return 1.0, 'positive'\n",
    "\n",
    "    def on_trading_iteration(self):\n",
    "        print(f\"INFO: trading loop\")\n",
    "        cash, last_price, quantity = self.position_sizing()\n",
    "        probability, sentiment = self.get_sentiment()\n"
   ]
  },
  {
   "cell_type": "code",
   "execution_count": 9,
   "metadata": {},
   "outputs": [
    {
     "name": "stdout",
     "output_type": "stream",
     "text": [
      "2024-08-26 14:29:54,389: root: INFO: The Interactive Brokers queue was empty or max time reached for account summary\n",
      "2024-08-26 14:29:54,392: asyncio: ERROR: Unable to get balances (cash, portfolio value, etc) from broker. Please check your broker and your broker configuration.\n",
      "2024-08-26 14:30:07,396: root: ERROR: The queue was empty or max time reached for positions\n",
      "2024-08-26 14:30:07,398: root: ERROR: Error: IBWrapper returned an error with -1 error code 504 that says Not connected\n",
      "2024-08-26 14:30:07,404: asyncio: INFO: [IBTrader] Executing the initialize lifecycle method\n",
      "INFO: initializing\n",
      "2024-08-26 14:30:07,452: root: WARNING: Had to reconnect to the broker. Sleeping for 5 seconds to make sure the connection is established.\n",
      "2024-08-26 14:30:25,461: root: INFO: The Interactive Brokers queue was empty or max time reached for account summary\n",
      "2024-08-26 14:30:25,465: asyncio: ERROR: Unable to get balances (cash, portfolio value, etc) from broker. Please check your broker and your broker configuration.\n"
     ]
    },
    {
     "name": "stderr",
     "output_type": "stream",
     "text": [
      "Exception in thread IBTrader:\n",
      "Traceback (most recent call last):\n",
      "  File \"/usr/lib/python3.10/threading.py\", line 1016, in _bootstrap_inner\n",
      "    self.run()\n",
      "  File \"/home/mavost/GITHUB/urban-trading-analysis/python_env/lib/python3.10/site-packages/lumibot/strategies/strategy_executor.py\", line 957, in run\n",
      "    self._initialize()\n",
      "  File \"/home/mavost/GITHUB/urban-trading-analysis/python_env/lib/python3.10/site-packages/lumibot/strategies/strategy_executor.py\", line 287, in func_output\n",
      "    result = func_input(self, *args, **kwargs)\n",
      "  File \"/home/mavost/GITHUB/urban-trading-analysis/python_env/lib/python3.10/site-packages/lumibot/strategies/strategy_executor.py\", line 355, in _initialize\n",
      "    self.strategy.initialize(**safe_params_to_pass)\n",
      "  File \"/tmp/ipykernel_74558/3738722197.py\", line 8, in initialize\n",
      "TypeError: unsupported format string passed to NoneType.__format__\n"
     ]
    },
    {
     "data": {
      "text/plain": [
       "{'IBTrader': {}}"
      ]
     },
     "execution_count": 9,
     "metadata": {},
     "output_type": "execute_result"
    }
   ],
   "source": [
    "broker = InteractiveBrokers(INTERACTIVE_BROKERS_CONFIG)\n",
    "strat_dict = {\n",
    "    \"broker\": broker,\n",
    "    \"force_start_immediately\": True,\n",
    "    \"parameters\": {\n",
    "        \"cash_at_risk\": 0.03,\n",
    "        \"symbol\": \"EOAN\",\n",
    "        \"trade_upside\": 1.10,\n",
    "        \"trade_stop_loss\": 0.95,\n",
    "    },\n",
    "}\n",
    "\n",
    "strategy = IBTrader(**strat_dict)\n",
    "\n",
    "# start_date = datetime(2022,6,1)\n",
    "# end_date = start_date + timedelta(days=365*2)\n",
    "\n",
    "# backtest_dict = {\n",
    "#     \"datasource_class\": YahooDataBacktesting,\n",
    "#     \"backtesting_start\": start_date,\n",
    "#     \"backtesting_end\": end_date,\n",
    "#     \"benchmark_asset\": Asset(symbol=\"AAPL\", asset_type=\"stock\")\n",
    "# }\n",
    "\n",
    "# strategy.backtest(\n",
    "#     parameters=backtest_dict\n",
    "# )\n",
    "\n",
    "trader = Trader()\n",
    "trader.add_strategy(strategy)\n",
    "trader.run_all()"
   ]
  },
  {
   "cell_type": "code",
   "execution_count": 6,
   "metadata": {},
   "outputs": [
    {
     "data": {
      "text/plain": [
       "{'broker': <lumibot.brokers.interactive_brokers.InteractiveBrokers at 0x7f1d7591bbe0>,\n",
       " 'name': 'somestrat',\n",
       " 'force_start_immediately': True,\n",
       " 'parameters': {'cash_at_risk': 0.03,\n",
       "  'symbol': 'EOAN',\n",
       "  'trade_upside': 1.1,\n",
       "  'trade_stop_loss': 0.95}}"
      ]
     },
     "execution_count": 6,
     "metadata": {},
     "output_type": "execute_result"
    }
   ],
   "source": [
    "strat_dict"
   ]
  },
  {
   "cell_type": "code",
   "execution_count": null,
   "metadata": {},
   "outputs": [],
   "source": []
  }
 ],
 "metadata": {
  "kernelspec": {
   "display_name": "Python 3.9.13 ('analytics')",
   "language": "python",
   "name": "python3"
  },
  "language_info": {
   "codemirror_mode": {
    "name": "ipython",
    "version": 3
   },
   "file_extension": ".py",
   "mimetype": "text/x-python",
   "name": "python",
   "nbconvert_exporter": "python",
   "pygments_lexer": "ipython3",
   "version": "3.10.12"
  },
  "orig_nbformat": 4,
  "vscode": {
   "interpreter": {
    "hash": "1acbb1aea708f5888ce317e88d2db9ecb72c374939700585e6601647586e5137"
   }
  }
 },
 "nbformat": 4,
 "nbformat_minor": 2
}
