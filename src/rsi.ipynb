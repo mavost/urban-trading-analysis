{
 "cells": [
  {
   "cell_type": "markdown",
   "metadata": {},
   "source": [
    "# Notebook to test the RSI indicator\n",
    "\n",
    "Latest version: 2024-08-16  \n",
    "Author: MvS\n",
    "\n",
    "## Description\n",
    "\n",
    "sources:\n",
    "\n",
    "- [Investopedia](https://www.investopedia.com/terms/r/rsi.asp)\n",
    "- [Medium](https://medium.com/@manreddyr/calculating-relative-strength-index-using-pandas-80f7b4f2653d)\n",
    "- [How to use and tweak](https://thepatternsite.com/RSI.html)\n",
    "\n",
    "## Result\n",
    "\n",
    "\n"
   ]
  },
  {
   "cell_type": "code",
   "execution_count": 2,
   "metadata": {},
   "outputs": [],
   "source": [
    "import yfinance as yf\n",
    "import datetime\n",
    "import numpy as np\n",
    "import pandas as pd\n",
    "import matplotlib.pyplot as plt\n",
    "\n",
    "from importlib import reload  # Python 3.4+\n",
    "import utils.indicator_utils as idc\n",
    "\n",
    "import logging\n",
    "import sys\n",
    "\n",
    "logging.basicConfig(stream=sys.stdout, level=logging.INFO, format=\"%(asctime)s %(message)s\")\n",
    "\n",
    "periods = [14]\n",
    "\n",
    "dt_end = datetime.datetime.today()\n",
    "dt_data_start = dt_end - datetime.timedelta(days=max(periods) * 10)\n",
    "\n",
    "# stock = \"FROG\"\n",
    "# stock = \"TSLA\"\n",
    "# stock = \"NVDA\"\n",
    "stock = \"SAP.TO\"\n",
    "\n",
    "try:\n",
    "    # Grab sufficient stock data for averaging SMAs\n",
    "    load_df = yf.download(\n",
    "        f\"{stock}\",\n",
    "        start=dt_data_start.strftime('%Y-%m-%d'),\n",
    "        end=dt_end.strftime('%Y-%m-%d'),\n",
    "        progress=False,\n",
    "    )\n",
    "\n",
    "    assert load_df.shape[1] == 6 and load_df.shape[0] > max(periods)\n",
    "\n",
    "except AssertionError:\n",
    "    logging.info(f\"Download failed for symbol {stock}.  Skipping...\")\n"
   ]
  },
  {
   "cell_type": "code",
   "execution_count": null,
   "metadata": {},
   "outputs": [],
   "source": [
    "reload(idc)\n",
    "\n",
    "sym_df = load_df.copy()\n",
    "\n",
    "# Compute the RSI\n",
    "for period in periods:\n",
    "    sym_df[f\"RSI_{period:03}\"] = idc.wilder_rsi(close=sym_df['Close'], length=period)\n",
    "\n",
    "\n",
    "dt_start = sym_df.index[0]\n",
    "\n",
    "logging.info(\n",
    "    f\"\"\"Calculating RSI indicator for {periods} window length starting from:\n",
    "  {dt_start.strftime('%Y-%m-%d')} and ending on {dt_end.strftime('%Y-%m-%d')}\n",
    "  and containing {sym_df.shape} data points.\"\"\"\n",
    ")\n",
    "\n",
    "\n",
    "# Define the columns and their styles\n",
    "columns = ['Close', ]\n",
    "colors = ['darkgreen', ]\n",
    "linestyles = ['-', ]\n",
    "markers = [None, ]\n",
    "\n",
    "try:\n",
    "    # Plot each column separately\n",
    "    ax = None\n",
    "    for col, color, style, marker in zip(columns, colors, linestyles, markers):\n",
    "        ax = sym_df[col].plot(color=color, linestyle=style, marker=marker, ax=ax)\n",
    "    ax.legend(loc='upper left')\n",
    "    # Plot RSI on secondary axis\n",
    "    second_ax = ax.twinx()\n",
    "    sym_df[f\"RSI_{period:03}\"].plot(color='purple', linestyle='--', ax=second_ax)\n",
    "    second_ax.legend(loc='upper right')\n",
    "\n",
    "except TypeError:\n",
    "    logging.info(f\"Error during plotting\")\n"
   ]
  }
 ],
 "metadata": {
  "kernelspec": {
   "display_name": "Python 3.9.13 ('analytics')",
   "language": "python",
   "name": "python3"
  },
  "language_info": {
   "codemirror_mode": {
    "name": "ipython",
    "version": 3
   },
   "file_extension": ".py",
   "mimetype": "text/x-python",
   "name": "python",
   "nbconvert_exporter": "python",
   "pygments_lexer": "ipython3",
   "version": "3.10.12"
  },
  "orig_nbformat": 4,
  "vscode": {
   "interpreter": {
    "hash": "1acbb1aea708f5888ce317e88d2db9ecb72c374939700585e6601647586e5137"
   }
  }
 },
 "nbformat": 4,
 "nbformat_minor": 2
}
