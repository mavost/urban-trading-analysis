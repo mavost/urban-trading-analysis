{
 "cells": [
  {
   "cell_type": "markdown",
   "metadata": {},
   "source": [
    "# Notebook to scrape ticker symbols\n",
    "\n",
    "Latest version: 2024-08-19  \n",
    "Author: MvS\n",
    "\n",
    "## Description\n",
    "\n",
    "This notebook is used to get the symbols of financial instruments traded at the various exchanges around the world.\n",
    "\n",
    "A free subscription to [EODHD](https://eodhd.com/financial-apis/quick-start-with-our-financial-data-apis) can be used to get a listing of all relevant exchanges.\n",
    "\n",
    "[Wikipedia](https://en.wikipedia.org/wiki/List_of_stock_market_indices) can be scraped for lists of components of stock various indices.\n",
    "\n",
    "*Caveats:*  \n",
    "\n",
    "- components in large indices are most likely outdated\n",
    "- Wikipedia's layouts vary greatly, see, parser options below\n",
    "- changes to Wiki entries are probable leading to breaking of the parser   \n",
    "\n",
    "## Result\n",
    "\n",
    "1. For each exchange listed on *EODHD*, a complete list of symbols can be extracted in JSON format, converted to a Pandas dataframe, filtered and saved to a `.csv` file.\n",
    "\n",
    "2. For each index listed on Wikipedia, a relatively precise list of tickers and industry sectors can be obtained and used for extraction of market data on [Yahoo Finance](https://finance.yahoo.com/). Additional transformation of ticker symbols might be required for multi-exchange indices, e.g., [^STOXX50E](https://en.wikipedia.org/wiki/EURO_STOXX_50)."
   ]
  },
  {
   "cell_type": "code",
   "execution_count": null,
   "metadata": {},
   "outputs": [],
   "source": [
    "import yfinance as yf\n",
    "\n",
    "from dotenv import dotenv_values\n",
    "import requests\n",
    "import pandas as pd\n",
    "import datetime as dt\n",
    "import csv\n",
    "\n",
    "cur_date = dt.datetime.today().strftime('%Y-%m-%d')\n",
    "\n",
    "env_dict = dotenv_values(\"../.env\")"
   ]
  },
  {
   "cell_type": "markdown",
   "metadata": {},
   "source": [
    "### List all relevant exchanges"
   ]
  },
  {
   "cell_type": "code",
   "execution_count": null,
   "metadata": {},
   "outputs": [],
   "source": [
    "print(f\"Getting exchange symbols: {env_dict['EODHD_API_URL']}\")\n",
    "\n",
    "make_calls = False\n",
    "\n",
    "# each call costs one credit\n",
    "if make_calls:\n",
    "    url = f\"{env_dict['EODHD_API_URL']}/exchanges-list/?api_token={env_dict['EODHD_API_KEY']}&fmt=json\"\n",
    "    # 78 exchanges\n",
    "    exchanges = requests.get(url).json()\n",
    "    exchanges_df = pd.DataFrame(exchanges)\n",
    "    exchanges_df.to_csv(\n",
    "        f\"../logs/{cur_date}_EODHD_exchanges.csv\",\n",
    "        sep=\",\", quotechar='\"', index=False,\n",
    "        quoting=csv.QUOTE_NONNUMERIC\n",
    "    )\n",
    "    del exchanges    \n",
    "else:\n",
    "    exchanges_df = pd.read_csv(\n",
    "        f\"../logs/{cur_date}_EODHD_exchanges.csv\",\n",
    "        sep=\",\", quotechar='\"'\n",
    "    )\n",
    "\n",
    "print(exchanges_df)\n"
   ]
  },
  {
   "cell_type": "markdown",
   "metadata": {},
   "source": [
    "### Pick an exchange and scrape all ticker symbols"
   ]
  },
  {
   "cell_type": "code",
   "execution_count": null,
   "metadata": {},
   "outputs": [],
   "source": [
    "exchange_code = 'US'\n",
    "\n",
    "print(f\"Getting instrument symbols for exchange: {exchange_code}\")\n",
    "\n",
    "if make_calls:\n",
    "    url = f\"{env_dict['EODHD_API_URL']}/exchange-symbol-list/{exchange_code}?api_token={env_dict['EODHD_API_KEY']}&fmt=json\"\n",
    "    symbols = requests.get(url).json()\n",
    "    \n",
    "    # 48994 symbols\n",
    "    symbols_df = pd.DataFrame(symbols)\n",
    "\n",
    "    # 20608 symbols with Isin\n",
    "    symbols_df_clean = symbols_df[~symbols_df['Isin'].isnull()].copy()\n",
    "\n",
    "    symbols_df_clean.to_csv(\n",
    "        f\"../logs/{cur_date}_{exchange_code}_symbols.csv\",\n",
    "        sep=\",\", quotechar='\"', index=False,\n",
    "        quoting=csv.QUOTE_NONNUMERIC\n",
    "    )\n",
    "    del symbols, symbols_df\n",
    "\n",
    "else:\n",
    "    symbols_df_clean = pd.read_csv(\n",
    "        f\"../logs/{cur_date}_{exchange_code}_symbols.csv\",\n",
    "        sep=\",\", quotechar='\"'\n",
    "    )\n",
    "\n",
    "print(symbols_df_clean[symbols_df_clean.Code == 'SPY'])\n",
    "\n",
    "# Stats on number of tickers per exchange and type\n",
    "print(symbols_df_clean.groupby(by=['Exchange', 'Type'])[['Name']].count())\n",
    "\n",
    "#not found\n",
    "#symbols_df_clean[symbols_df_clean.Code == 'GSPC.INDX']"
   ]
  },
  {
   "cell_type": "code",
   "execution_count": null,
   "metadata": {},
   "outputs": [],
   "source": [
    "# not permitted with free plan and costs 10 credits for each failed attempt!\n",
    "\n",
    "# index_code = 'GSPC.INDX'\n",
    "\n",
    "# print(f\"Getting component symbols for index: {index_code}\")\n",
    "\n",
    "# url = f\"{env_dict['EODHD_API_URL']}/fundamentals/{index_code}?api_token={env_dict['EODHD_API_KEY']}&fmt=json\"\n",
    "# components = requests.get(url).json()\n",
    "# components_df = pd.DataFrame(components)\n",
    "\n",
    "# # 500 symbols\n",
    "# components_df"
   ]
  },
  {
   "cell_type": "markdown",
   "metadata": {},
   "source": [
    "### Scrape Wikipedia for indices"
   ]
  },
  {
   "cell_type": "code",
   "execution_count": null,
   "metadata": {},
   "outputs": [],
   "source": [
    "make_calls = False\n",
    "wiki_indices = {\n",
    "    # S&P500; large caps; forms S&P900 with S&P400; forms S&P1500 with S&P400 & S&P600\n",
    "    '^GSPC' : ('https://en.wikipedia.org/wiki/List_of_S%26P_500_companies', 0, 'Symbol', 'GICS Sector'),\n",
    "    # S&P400; medium caps; forms S&P1000 with S&P600\n",
    "    '^SP400' : ('https://en.wikipedia.org/wiki/List_of_S%26P_400_companies', 0, 'Symbol', 'GICS Sector'),\n",
    "    # S&P600; small caps\n",
    "    '^SP600' : ('https://en.wikipedia.org/wiki/List_of_S%26P_600_companies', 0, 'Symbol', 'GICS Sector'),\n",
    "    # S&P 500 Dividend Aristocrats, US\n",
    "    '^SPDAUDP' : ('https://en.wikipedia.org/wiki/S%26P_500_Dividend_Aristocrats', 0, 'Ticker symbol', 'Sector'),\n",
    "    # S&P 350 Dividend Aristocrats, Europe\n",
    "    '^SPDAEHN' : ('https://en.wikipedia.org/wiki/S%26P_Europe_350_Dividend_Aristocrats', 0, 'Ticker', 'Industry'),\n",
    "    # NASDAQ 100\n",
    "    '^NDX' : ('https://en.wikipedia.org/wiki/Nasdaq-100', 4, 'Ticker', 'GICS Sector'),\n",
    "    # NYSE ARCA MAJOR MARKET INDEX\n",
    "    '^XMI' : ('https://en.wikipedia.org/wiki/NYSE_Arca_Major_Market_Index', 1, 'Symbol', None),\n",
    "    # NYSE ARCA OIL and GAS INDEX\n",
    "    '^XOI': ('https://en.wikipedia.org/wiki/Amex_Oil_Index', 0, 'Symbol', None),\n",
    "    # NYSE ARCA GOLD BUGS INDEX\n",
    "    '^HUI': ('https://en.wikipedia.org/wiki/HUI_Gold_Index', 0, 'Symbol', None),\n",
    "    # Dow Jones Industrial Average\n",
    "    '^DJI': ('https://en.wikipedia.org/wiki/Dow_Jones_Industrial_Average', 1, 'Symbol', 'Industry'),\n",
    "    # Dow Jones Transportation Average\n",
    "    '^DJT': ('https://en.wikipedia.org/wiki/Dow_Jones_Transportation_Average', 0, 'Ticker', 'Sector'),\n",
    "    # Dow Jones Utility Average\n",
    "    '^DJU': ('https://en.wikipedia.org/wiki/Dow_Jones_Utility_Average', 1, 'Ticker', 'Type'),\n",
    "    # Russell 1000\n",
    "    '^RUI' : ('https://en.wikipedia.org/wiki/Russell_1000_Index', 2, 'Symbol', 'GICS Sector'),\n",
    "    # S&P/TSX 60 Index - Toronto Stock Exchange, Canada\n",
    "    'TX60.TS' : ('https://en.wikipedia.org/wiki/S%26P/TSX_60', 0, 'Symbol', 'Sector'),\n",
    "    # DAX PERFORMANCE-INDEX\n",
    "    '^GDAXI' : ('https://en.wikipedia.org/wiki/DAX', 4, 'Ticker', 'Prime Standard Sector'),\n",
    "    # EURO STOXX 50\n",
    "    '^STOXX50E' : ('https://en.wikipedia.org/wiki/EURO_STOXX_50', 4, 'Ticker', 'Industry'),\n",
    "    # Footsie\n",
    "    '^FTSE' : ('https://en.wikipedia.org/wiki/FTSE_100_Index', 4, 'Ticker', 'FTSE industry classification benchmark sector[25]'),\n",
    "    '_' : ('', 0, 'Symbol', None),\n",
    "}\n",
    "\n",
    "# Scrape the index tickers from Wikipedia\n",
    "wiki_index = '^FTSE'\n",
    "(index_url, page, ticker, subset) = wiki_indices[wiki_index]\n",
    "index_df = pd.read_html(index_url)[page]\n",
    "print(index_df)\n",
    "\n",
    "# for sophisticated info in the table perform stats\n",
    "# e.g., on Global Industry Classification Standard (GICS)\n",
    "if(subset is not None):\n",
    "    index_df.groupby(by=[subset])[[ticker]].count()\n",
    "    print(index_df.groupby(by=[subset])[[ticker]].count().sort_values(ticker))\n",
    "    # get group with highest count\n",
    "    index_filter = index_df.groupby(by=[subset])[[ticker]].count().sort_values(ticker).index[-1]\n",
    "    tickers = index_df[index_df[subset] == index_filter][ticker].tolist()\n",
    "else:\n",
    "    tickers = index_df[ticker].tolist()\n",
    "\n",
    "# Get the list of tickers\n",
    "print(tickers)\n",
    "\n",
    "# Example: Get historical data for the first 5 tickers\n",
    "if make_calls:\n",
    "    index_data = yf.download(tickers[:5], period=\"1mo\")\n",
    "    \n",
    "    # Display the data\n",
    "    print(index_data)\n"
   ]
  },
  {
   "cell_type": "code",
   "execution_count": null,
   "metadata": {},
   "outputs": [],
   "source": []
  }
 ],
 "metadata": {
  "kernelspec": {
   "display_name": "Python 3.9.13 ('analytics')",
   "language": "python",
   "name": "python3"
  },
  "language_info": {
   "codemirror_mode": {
    "name": "ipython",
    "version": 3
   },
   "file_extension": ".py",
   "mimetype": "text/x-python",
   "name": "python",
   "nbconvert_exporter": "python",
   "pygments_lexer": "ipython3",
   "version": "3.10.12"
  },
  "orig_nbformat": 4,
  "vscode": {
   "interpreter": {
    "hash": "1acbb1aea708f5888ce317e88d2db9ecb72c374939700585e6601647586e5137"
   }
  }
 },
 "nbformat": 4,
 "nbformat_minor": 2
}
