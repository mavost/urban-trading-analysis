{
 "cells": [
  {
   "cell_type": "markdown",
   "metadata": {},
   "source": [
    "# Notebook to play with SMAs\n",
    "\n",
    "Latest version: 2024-08-16  \n",
    "Author: MvS\n",
    "\n",
    "## Description\n",
    "\n",
    "\n",
    "## Result\n",
    "\n",
    "\n"
   ]
  },
  {
   "cell_type": "code",
   "execution_count": null,
   "metadata": {},
   "outputs": [],
   "source": [
    "import yfinance as yf\n",
    "import datetime\n",
    "import numpy as np\n",
    "import pandas as pd\n",
    "import matplotlib.pyplot as plt\n",
    "\n",
    "from importlib import reload  # Python 3.4+\n",
    "import utils.indicator_utils as idc\n",
    "\n",
    "import logging\n",
    "import sys\n",
    "\n",
    "logging.basicConfig(stream=sys.stdout, level=logging.INFO, format=\"%(asctime)s %(message)s\")\n",
    "\n",
    "periods = [200, 50]\n",
    "\n",
    "dt_end = datetime.datetime.today()\n",
    "dt_data_start = dt_end - datetime.timedelta(days=max(periods) * 3)\n",
    "\n",
    "# stock = \"FROG\"\n",
    "# stock = \"TSLA\"\n",
    "# stock = \"NVDA\"\n",
    "stock = \"SAP.TO\"\n",
    "\n",
    "try:\n",
    "    # Grab sufficient stock data for averaging SMAs\n",
    "    load_df = yf.download(\n",
    "        f\"{stock}\",\n",
    "        start=dt_data_start.strftime('%Y-%m-%d'),\n",
    "        end=dt_end.strftime('%Y-%m-%d'),\n",
    "        progress=False,\n",
    "    )\n",
    "\n",
    "    assert load_df.shape[1] == 6 and load_df.shape[0] > max(periods)\n",
    "\n",
    "except AssertionError:\n",
    "    logging.info(f\"Download failed for symbol {stock}.  Skipping...\")\n"
   ]
  },
  {
   "cell_type": "code",
   "execution_count": null,
   "metadata": {},
   "outputs": [],
   "source": [
    "sym_df = load_df.copy()\n",
    "\n",
    "# Compute the simple moving average (SMA)\n",
    "for period in periods:\n",
    "    sym_df[f\"SMA_{period:03}\"] = idc.sma(sym_df['Close'], length=period)\n",
    "\n",
    "# Now that we calculated the SMA, we can remove the data points before the actual AOI that we want.\n",
    "sym_df = sym_df[-max(periods) :].copy()\n",
    "\n",
    "\n",
    "dt_start = sym_df.index[0]\n",
    "\n",
    "logging.info(\n",
    "    f\"\"\"Calculating SMAs for {periods} length starting from:\n",
    "  {dt_start.strftime('%Y-%m-%d')} and ending on {dt_end.strftime('%Y-%m-%d')}\n",
    "  and containing {sym_df.shape} data points.\"\"\"\n",
    ")\n",
    "\n",
    "sym_df[[f\"SMA_{min(periods):03}\", f\"SMA_{max(periods):03}\", 'Close']].plot()"
   ]
  },
  {
   "cell_type": "code",
   "execution_count": null,
   "metadata": {},
   "outputs": [],
   "source": [
    "# del sym_df"
   ]
  },
  {
   "cell_type": "code",
   "execution_count": null,
   "metadata": {},
   "outputs": [],
   "source": [
    "ema_length = 30\n",
    "ema_scaler = 1.01\n",
    "\n",
    "long_ema_str = f\"EMA_{ema_length:03}_Long\"\n",
    "short_ema_str = f\"EMA_{ema_length:03}_Short\"\n",
    "min_sma_str = f\"SMA_{min(periods):03}\"\n",
    "max_sma_str = f\"SMA_{max(periods):03}\"\n",
    "\n",
    "# STOP LOSS LONG\n",
    "sym_df[long_ema_str] = idc.ema(sym_df['Low'], length=ema_length) / ema_scaler\n",
    "\n",
    "# STOP LOSS SHORT\n",
    "sym_df[short_ema_str] = idc.ema(sym_df['High'], length=ema_length) * ema_scaler\n",
    "\n",
    "sym_df[\n",
    "    [\n",
    "        min_sma_str,\n",
    "        max_sma_str,\n",
    "        'Close',\n",
    "        long_ema_str,\n",
    "        short_ema_str,\n",
    "    ]\n",
    "].plot()\n",
    "\n",
    "\n",
    "logging.info(f\"{min_sma_str:>14} {sym_df['SMA_050'][-1:].mean():8.3f}\")\n",
    "logging.info(f\"{max_sma_str:>14} {sym_df['SMA_200'][-1:].mean():8.3f}\")\n",
    "logging.info(f\"{'Close:':>14} {sym_df['Close'][-1:].mean():8.3f}\")\n",
    "logging.info(f\"{long_ema_str:>14} {sym_df['EMA_030_Long'][-1:].mean():8.3f}\")\n",
    "logging.info(f\"{short_ema_str:>14} {sym_df['EMA_030_Short'][-1:].mean():8.3f}\")"
   ]
  },
  {
   "cell_type": "code",
   "execution_count": null,
   "metadata": {},
   "outputs": [],
   "source": [
    "sym_df"
   ]
  },
  {
   "cell_type": "code",
   "execution_count": null,
   "metadata": {},
   "outputs": [],
   "source": [
    "reload(idc)\n",
    "\n",
    "# Clean up\n",
    "sym_df.drop(\n",
    "    ['Mode', 'P_Signal', 'N_Signal', 'Buy', 'Sell',],\n",
    "    axis=1,\n",
    "    inplace=True,\n",
    "    errors='ignore',\n",
    ")\n",
    "\n",
    "# Generate crossover signals\n",
    "temp = idc.crossovers(short=sym_df[min_sma_str], long=sym_df[max_sma_str], scaledsignal=False)\n",
    "sym_df = pd.concat([sym_df, temp], axis=1)\n",
    "\n",
    "# Re-label columns\n",
    "sym_df = sym_df.rename(columns={'P_Signal': 'Buy', 'N_Signal': 'Sell'})\n",
    "del temp\n",
    "\n",
    "\n",
    "\n",
    "# Define the columns and their styles\n",
    "columns = [\n",
    "    'Close',\n",
    "    min_sma_str,\n",
    "    max_sma_str,\n",
    "    'Mode',\n",
    "    'Buy',\n",
    "    'Sell',\n",
    "]\n",
    "colors = ['grey', 'darkgreen', 'orangered', 'black', 'darkgreen', 'orangered']\n",
    "linestyles = ['-', '-', '-', ':', None, None]\n",
    "markers = [None, None, None, None, '^', 'v']\n",
    "\n",
    "\n",
    "try:\n",
    "    # Plot each column separately\n",
    "    ax = None\n",
    "    for col, color, style, marker in zip(columns, colors, linestyles, markers):\n",
    "        ax = sym_df[col].plot(color=color, linestyle=style, marker=marker, ax=ax)\n",
    "    ax.legend(loc='upper left')\n",
    "except TypeError:\n",
    "    logging.info(f\"Either no BUY/SELL signal found\")"
   ]
  }
 ],
 "metadata": {
  "kernelspec": {
   "display_name": "Python 3.9.13 ('analytics')",
   "language": "python",
   "name": "python3"
  },
  "language_info": {
   "codemirror_mode": {
    "name": "ipython",
    "version": 3
   },
   "file_extension": ".py",
   "mimetype": "text/x-python",
   "name": "python",
   "nbconvert_exporter": "python",
   "pygments_lexer": "ipython3",
   "version": "3.10.12"
  },
  "vscode": {
   "interpreter": {
    "hash": "1acbb1aea708f5888ce317e88d2db9ecb72c374939700585e6601647586e5137"
   }
  }
 },
 "nbformat": 4,
 "nbformat_minor": 2
}
