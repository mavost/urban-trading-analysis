{
 "cells": [
  {
   "cell_type": "markdown",
   "metadata": {},
   "source": [
    "# Notebook to play with SMAs\n",
    "\n",
    "Latest version: 2024-08-16  \n",
    "Author: MvS\n",
    "\n",
    "## Description\n",
    "\n",
    "\n",
    "## Result\n",
    "\n",
    "\n"
   ]
  },
  {
   "cell_type": "code",
   "execution_count": null,
   "metadata": {},
   "outputs": [],
   "source": [
    "import yfinance\n",
    "import datetime\n",
    "import numpy as np\n",
    "import pandas as pd\n",
    "import matplotlib.pyplot as plt\n",
    "\n",
    "periods = [200, 50]\n",
    "\n",
    "dt_end = datetime.datetime.today()\n",
    "dt_data_start = dt_end - datetime.timedelta(days=max(periods) * 3)\n",
    "\n",
    "stock = \"FROG\"\n",
    "\n",
    "# Grab the stock data\n",
    "load_df = yfinance.download(\n",
    "    stock, start=dt_data_start.strftime('%Y-%m-%d'), end=dt_end.strftime('%Y-%m-%d')\n",
    ")"
   ]
  },
  {
   "cell_type": "code",
   "execution_count": null,
   "metadata": {},
   "outputs": [],
   "source": [
    "stock_df = load_df.copy()\n",
    "\n",
    "# Compute the simple moving average (SMA)\n",
    "for period in periods:\n",
    "    stock_df[f\"SMA_{period:03}\"] = stock_df[\"Close\"].rolling(window=period).mean()\n",
    "\n",
    "# Now that we calculated the SMA, we can remove the data points before the actual AOI that we want.\n",
    "stock_df = stock_df[-max(periods) :].copy()\n",
    "\n",
    "\n",
    "dt_start = stock_df.index[0]\n",
    "\n",
    "print(\n",
    "    f\"\"\"Calculating SMAs for {periods} length starting from:\n",
    "  {dt_start.strftime('%Y-%m-%d')} and ending on {dt_end.strftime('%Y-%m-%d')}\n",
    "  and containing {stock_df.shape} data points.\"\"\"\n",
    ")\n",
    "\n",
    "stock_df[[f\"SMA_{min(periods):03}\", f\"SMA_{max(periods):03}\", 'Close']].plot()"
   ]
  },
  {
   "cell_type": "code",
   "execution_count": null,
   "metadata": {},
   "outputs": [],
   "source": [
    "stock_df['C'] = 0\n",
    "stock_df.drop(['C'], axis=1, inplace=True)\n",
    "stock_df[-5:]"
   ]
  },
  {
   "cell_type": "code",
   "execution_count": null,
   "metadata": {},
   "outputs": [],
   "source": [
    "print(stock_df['Close'][-50:].mean())\n",
    "print(stock_df['SMA_050'][-50:].mean())\n",
    "print(stock_df['SMA_200'][-50:].mean())"
   ]
  },
  {
   "cell_type": "code",
   "execution_count": null,
   "metadata": {},
   "outputs": [],
   "source": [
    "# define the corridors for operation as strong deviations of fast from slow SMA\n",
    "\n",
    "\n",
    "def valid_signal(x):\n",
    "    fast = f\"SMA_{min(periods):03}\"\n",
    "    slow = f\"SMA_{max(periods):03}\"\n",
    "\n",
    "    # mean of last 50 days\n",
    "    ref_price = stock_df[fast][-50:].mean()\n",
    "    perc = 0.01 * ref_price\n",
    "\n",
    "    if x[fast] > x[slow] + perc:\n",
    "        return 1\n",
    "    elif x[fast] < x[slow] - perc:\n",
    "        return -1\n",
    "    else:\n",
    "        return 0\n",
    "\n",
    "\n",
    "# don't need loc unless working with view/slice of df\n",
    "# stock_df.loc[:, 'Valid'] = stock_df.apply(valid_signal, axis=1)\n",
    "stock_df['Valid'] = stock_df.apply(valid_signal, axis=1)\n",
    "\n",
    "stock_df[[f\"SMA_{min(periods):03}\", f\"SMA_{max(periods):03}\", 'Valid']].plot()"
   ]
  },
  {
   "cell_type": "code",
   "execution_count": null,
   "metadata": {},
   "outputs": [],
   "source": [
    "stock_df['Valid_shift'] = stock_df['Valid'].shift(1)\n",
    "stock_df['Valid_shift'] = stock_df['Valid_shift'].interpolate(\n",
    "    method='backfill', limit_direction='backward'\n",
    ")\n",
    "\n",
    "\n",
    "def get_signal(x):\n",
    "    if x['Valid'] != x['Valid_shift'] and x['Valid'] != 0:\n",
    "        return x['Valid'] * 5\n",
    "    else:\n",
    "        return 0\n",
    "\n",
    "\n",
    "stock_df['Signal'] = stock_df.apply(get_signal, axis=1)\n",
    "\n",
    "stock_df[\n",
    "    [f\"SMA_{min(periods):03}\", f\"SMA_{max(periods):03}\", 'Valid', 'Signal', 'Close']\n",
    "].plot()"
   ]
  },
  {
   "cell_type": "code",
   "execution_count": null,
   "metadata": {},
   "outputs": [],
   "source": [
    "if stock_df['Signal'].any() != 0:\n",
    "    print('Some signals found...')\n",
    "    # calculate timedeltas between signals\n",
    "    signals_df = stock_df[stock_df['Signal'] != 0].copy()\n",
    "    signals_df['Temp'] = signals_df.index\n",
    "    signals_df['Last_Signal'] = signals_df.index - signals_df['Temp'].shift(1)\n",
    "\n",
    "    # calculate first row using info from remaining stock data\n",
    "    signals_df.iat[0, signals_df.columns.get_loc('Last_Signal')] = signals_df.iat[\n",
    "        0, signals_df.columns.get_loc('Temp')\n",
    "    ] - min(stock_df.index)\n",
    "\n",
    "    signals_df"
   ]
  },
  {
   "cell_type": "code",
   "execution_count": null,
   "metadata": {},
   "outputs": [],
   "source": [
    "# clean up\n",
    "# stock_df.dtypes\n",
    "stock_df.drop(\n",
    "    ['Last_Signal', 'Temp', 'Valid_shift', 'Adj Close'],\n",
    "    axis=1,\n",
    "    inplace=True,\n",
    "    errors='ignore',\n",
    ")\n",
    "stock_df = stock_df.astype({'Signal': int})\n",
    "\n",
    "if stock_df['Signal'].any() != 0:\n",
    "    # add back the signal calculation\n",
    "    stock_df = pd.concat([stock_df, signals_df[['Last_Signal']]], axis=1)\n",
    "    stock_df['Last_Signal'] = stock_df['Last_Signal'].fillna(datetime.timedelta(days=0))\n",
    "else:\n",
    "    stock_df['Last_Signal'] = datetime.timedelta(days=0)\n",
    "\n",
    "stock_df"
   ]
  },
  {
   "cell_type": "code",
   "execution_count": null,
   "metadata": {},
   "outputs": [],
   "source": [
    "stock_df2 = load_df.copy()\n",
    "periods = [50, 200]\n",
    "# Compute the simple moving average (SMA)\n",
    "for period in periods:\n",
    "    stock_df2[f\"SMA_Vol_{period:03}\"] = (\n",
    "        stock_df2[\"Volume\"].rolling(window=period).mean()\n",
    "    )\n",
    "\n",
    "# Now that we calculated the SMA, we can remove the data points before the actual AOI that we want.\n",
    "stock_df2 = stock_df2[-max(periods) :].copy()\n",
    "\n",
    "\n",
    "dt_start = stock_df2.index[0]\n",
    "\n",
    "print(\n",
    "    f\"\"\"Calculating SMAs for {periods} length starting from:\n",
    "  {dt_start.strftime('%Y-%m-%d')} and ending on {dt_end.strftime('%Y-%m-%d')}\n",
    "  and containing {stock_df2.shape} data points.\"\"\"\n",
    ")\n",
    "\n",
    "stock_df2[[f\"SMA_Vol_{min(periods):03}\", f\"SMA_Vol_{max(periods):03}\", 'Volume']].plot()"
   ]
  },
  {
   "cell_type": "code",
   "execution_count": null,
   "metadata": {},
   "outputs": [],
   "source": []
  },
  {
   "cell_type": "code",
   "execution_count": null,
   "metadata": {},
   "outputs": [],
   "source": [
    "# stock_df['LastSignal'] =\n",
    "stock_df.index.to_series().mask(stock_df['Signal'].eq(0))\n",
    "# .eq(0)).fill()-stock_df.index\n",
    "\n",
    "# stock_df[stock_df['Signal'] != 0]"
   ]
  },
  {
   "cell_type": "code",
   "execution_count": null,
   "metadata": {},
   "outputs": [],
   "source": [
    "df = pd.DataFrame(\n",
    "    {\n",
    "        'index': [240, 251, 282, 301, 321, 325, 328, 408],\n",
    "        'a': ['0', '0', '0', '0', '1', '0', '0', '1'],\n",
    "        'e1': ['0', '1', '0', '0', '0', '0', '1', '0'],\n",
    "        'e2': ['1', '0', '1', '0', '0', '1', '0', '0'],\n",
    "    }\n",
    ")\n",
    "df.set_index('index', inplace=True)\n",
    "dfTarget = pd.DataFrame(\n",
    "    {\n",
    "        'index': [240, 251, 282, 301, 321, 325, 328, 408],\n",
    "        'a': ['0', '0', '0', '0', '1', '0', '0', '1'],\n",
    "        'e1': ['0', '70', '0', '0', '0', '0', '80', '0'],\n",
    "        'e2': ['81', '0', '39', '0', '0', '83', '0', '0'],\n",
    "    }\n",
    ")\n",
    "dfTarget.set_index('index', inplace=True)"
   ]
  },
  {
   "cell_type": "code",
   "execution_count": null,
   "metadata": {},
   "outputs": [],
   "source": [
    "cols = ['e1', 'e2']\n",
    "s = df.index.to_series().mask(df['a'].ne('1')).bfill() - df.index\n",
    "\n",
    "df[cols] = df[cols].mask(df.eq('1'), s, axis=0).astype(int)\n",
    "df"
   ]
  },
  {
   "cell_type": "code",
   "execution_count": null,
   "metadata": {},
   "outputs": [],
   "source": []
  },
  {
   "cell_type": "code",
   "execution_count": null,
   "metadata": {},
   "outputs": [],
   "source": [
    "fast_signal = stock_data['SMA_050']\n",
    "slow_signal = stock_data['SMA_200']\n",
    "\n",
    "# Create a boolean series where slow > fast\n",
    "fast_condition = fast_signal > slow_signal\n",
    "slow_condition = fast_signal <= slow_signal\n",
    "\n",
    "window_size = 2\n",
    "\n",
    "# Calculate if this condition was met at least once in the last n periods\n",
    "earlier_fast_condition = fast_condition.rolling(window=window_size, min_periods=1).min()\n",
    "earlier_slow_condition = slow_condition.rolling(window=window_size, min_periods=1).min()\n",
    "\n",
    "\n",
    "# Function to include the rolling check\n",
    "def _conditions(slow, fast, prev_slow, prev_fast):\n",
    "    signal_strength = 5\n",
    "    # if fast > slow and not prev_slow:\n",
    "    #     return signal_strength\n",
    "    # elif fast <= slow and not prev_fast:\n",
    "    #     return -signal_strength\n",
    "    # else:\n",
    "    #     return 0\n",
    "    if fast > slow and not prev_fast:\n",
    "        return signal_strength\n",
    "    elif fast <= slow and not prev_slow:\n",
    "        return -signal_strength\n",
    "    else:\n",
    "        return 0\n",
    "\n",
    "\n",
    "# Function to include the rolling check\n",
    "def _conditions_new(slow, fast, prev_slow, prev_fast):\n",
    "    signal_strength = 7\n",
    "    if prev_fast:\n",
    "        return signal_strength\n",
    "    else:\n",
    "        return 0\n",
    "\n",
    "\n",
    "# Vectorize the function\n",
    "func = np.vectorize(_conditions)\n",
    "func_new = np.vectorize(_conditions_new)\n",
    "\n",
    "# Create a new column based on the function, considering rolling windows\n",
    "stock_data.loc[:, 'Signal'] = func(\n",
    "    slow_signal, fast_signal, earlier_slow_condition, earlier_fast_condition\n",
    ")\n",
    "# Create a new column based on the function, considering rolling windows\n",
    "stock_data.loc[:, 'Signal_new'] = func_new(\n",
    "    slow_signal, fast_signal, earlier_slow_condition, earlier_fast_condition\n",
    ")\n",
    "\n",
    "# Alternate syntax\n",
    "# list_args = [sales, profit]\n",
    "# df[\"rank4\"] = func(*list_args)\n",
    "stock_data[['Close', 'SMA_050', 'SMA_200', 'Signal', 'Signal_new']].plot()"
   ]
  },
  {
   "cell_type": "code",
   "execution_count": null,
   "metadata": {},
   "outputs": [],
   "source": [
    "print(slow_signal.rolling(window=window_size, min_periods=1))"
   ]
  },
  {
   "cell_type": "code",
   "execution_count": null,
   "metadata": {},
   "outputs": [],
   "source": [
    "stock_data[['Close', 'SMA_050', 'SMA_200']]\n",
    "# validated in Trading View"
   ]
  }
 ],
 "metadata": {
  "kernelspec": {
   "display_name": "Python 3.9.13 ('analytics')",
   "language": "python",
   "name": "python3"
  },
  "language_info": {
   "codemirror_mode": {
    "name": "ipython",
    "version": 3
   },
   "file_extension": ".py",
   "mimetype": "text/x-python",
   "name": "python",
   "nbconvert_exporter": "python",
   "pygments_lexer": "ipython3",
   "version": "3.10.12"
  },
  "orig_nbformat": 4,
  "vscode": {
   "interpreter": {
    "hash": "1acbb1aea708f5888ce317e88d2db9ecb72c374939700585e6601647586e5137"
   }
  }
 },
 "nbformat": 4,
 "nbformat_minor": 2
}
